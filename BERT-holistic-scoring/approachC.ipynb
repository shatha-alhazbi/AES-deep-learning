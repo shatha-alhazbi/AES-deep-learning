{
 "cells": [
  {
   "cell_type": "markdown",
   "metadata": {},
   "source": [
    "### Initialization and Starter Code"
   ]
  },
  {
   "cell_type": "code",
   "execution_count": null,
   "metadata": {
    "_cell_guid": "b1076dfc-b9ad-4769-8c92-a6c4dae69d19",
    "_uuid": "8f2839f25d086af736a60e9eeb907d3b93b6e0e5",
    "execution": {
     "iopub.execute_input": "2024-12-06T16:59:05.054673Z",
     "iopub.status.busy": "2024-12-06T16:59:05.054319Z"
    },
    "trusted": true
   },
   "outputs": [],
   "source": [
    "import torch\n",
    "import torch.nn as nn\n",
    "from torch.utils.data import Dataset, DataLoader\n",
    "from transformers import BertTokenizer, BertModel\n",
    "from sklearn.model_selection import KFold\n",
    "import numpy as np\n",
    "import pandas as pd\n",
    "from sklearn.metrics import cohen_kappa_score\n",
    "from datetime import datetime\n",
    "from tqdm.auto import tqdm #progress bars to see progress \n",
    "\n",
    "SCORE_RANGES = {\n",
    "        1: {'sentence_fluency': (1, 6), 'word_choice': (1, 6), 'conventions': (1, 6),'organization': (1, 6),\n",
    "            'content': (1, 6), 'holistic': (2, 12)},\n",
    "        2: {'sentence_fluency': (1, 6), 'word_choice': (1, 6), 'conventions': (1, 6),'organization': (1, 6),\n",
    "            'content': (1, 6), 'holistic': (1, 6)},\n",
    "        3: {'narrativity': (0, 3), 'language': (0, 3), 'prompt_adherence': (0, 3), 'content': (0, 3),\n",
    "            'holistic': (0, 3)},\n",
    "        4: {'narrativity': (0, 3), 'language': (0, 3), 'prompt_adherence': (0, 3), 'content': (0, 3),\n",
    "            'holistic': (0, 3)},\n",
    "        5: {'narrativity': (0, 4), 'language': (0, 4), 'prompt_adherence': (0, 4), 'content': (0, 4),\n",
    "            'holistic': (0, 4)},\n",
    "        6: {'narrativity': (0, 4), 'language': (0, 4), 'prompt_adherence': (0, 4), 'content': (0, 4),\n",
    "            'holistic': (0, 4)},\n",
    "        7: {'conventions': (0, 6), 'organization': (0, 6), 'content': (0, 6),'holistic': (0, 30)},\n",
    "        8: {'sentence_fluency': (2, 12), 'word_choice': (2, 12), 'conventions': (2, 12),'organization': (2, 12),\n",
    "            'content': (2, 12), 'holistic': (0, 60)}}\n",
    "\n",
    "device = torch.device('cuda' if torch.cuda.is_available() else 'cpu') #use gpu if avilable \n",
    "tokenizer = BertTokenizer.from_pretrained('bert-base-uncased') #initialize BERT tokenizer \n",
    "def read_data(path):\n",
    "   data = pd.read_csv(path)\n",
    "   return {\n",
    "       'essay_ids': data['essay_id'].values,\n",
    "       'prompt_ids': data['prompt_id'].values,\n",
    "       'essay_text': data['essay_text'].values,\n",
    "       'features': data.iloc[:, 12:].values,\n",
    "       'holistic': data['holistic'].values\n",
    "   }\n",
    "\n",
    "def normalize_scores(scores, prompt_id): #helper function to normalize scores since we have dif ranges\n",
    "   score_range = SCORE_RANGES[prompt_id]['holistic']\n",
    "   return (scores - score_range[0]) / (score_range[1] - score_range[0])\n",
    "\n",
    "def denormalize_scores(norm_scores, prompt_id):\n",
    "   score_range = SCORE_RANGES[prompt_id]['holistic']\n",
    "   return norm_scores * (score_range[1] - score_range[0]) + score_range[0]\n",
    "\n",
    "def quadratic_weighted_kappa(y_true, y_pred):\n",
    "   return cohen_kappa_score(y_true, np.round(y_pred), weights='quadratic')\n",
    "\n",
    "class essays_dataset(Dataset): #class to help organize and prepare our data for training\n",
    "   def __init__(self, essays, features, scores, prompt_ids, max_length=512):\n",
    "       self.essays = essays\n",
    "       self.features = features\n",
    "       self.scores = scores\n",
    "       self.prompt_ids = prompt_ids\n",
    "       self.max_length = max_length #max tokens length for BERT which is 512\n",
    "\n",
    "   def __len__(self):\n",
    "       return len(self.essays) #returns number of essays in the dataset\n",
    "\n",
    "   def __getitem__(self, idx): #to get a single essay with its info \n",
    "       essay = str(self.essays[idx])\n",
    "       features = self.features[idx]\n",
    "       score = self.scores[idx]\n",
    "       prompt_id = self.prompt_ids[idx]\n",
    "\n",
    "        #tokenize the essay text \n",
    "       encoding = tokenizer(  \n",
    "           essay,\n",
    "           max_length=self.max_length, #BERTs max length 512\n",
    "           padding='max_length', #add paddinf if <512 to reach 512\n",
    "           truncation=True, #cut off if >512\n",
    "           return_tensors='pt'\n",
    "       )\n",
    "\n",
    "        #return dict with all needed info\n",
    "       return {\n",
    "           'input_ids': encoding['input_ids'].squeeze(), #token id and remove extra single dimension\n",
    "           'attention_mask': encoding['attention_mask'].squeeze(), #mask to ignore padding \n",
    "           'features': torch.FloatTensor(features), \n",
    "           'score': torch.FloatTensor([score]),\n",
    "           'prompt_id': prompt_id\n",
    "       }\n",
    "\n",
    "class Our_BERT(nn.Module):\n",
    "   def __init__(self, hidden_size=0):\n",
    "       super(Our_BERT, self).__init__()\n",
    "       #load pretrained bert model\n",
    "       self.bert = BertModel.from_pretrained('bert-base-uncased')\n",
    "       \n",
    "       input_size = 768 + 86 #768 from BERT 86 our features\n",
    "       \n",
    "        #create regression head based on hidden_size\n",
    "       if hidden_size > 0:  #ff hidden size sis pecified use a hidden layer with ReLU\n",
    "           self.regression_head = nn.Sequential(\n",
    "               nn.Linear(input_size, hidden_size),\n",
    "               nn.ReLU(),\n",
    "               nn.Linear(hidden_size, 1)\n",
    "           )\n",
    "       else: #otherwise use single layer\n",
    "           self.regression_head = nn.Linear(input_size, 1)\n",
    "        #initialize weights using He/Kaiming initialization\n",
    "       for module in self.regression_head.modules():\n",
    "           if isinstance(module, nn.Linear):\n",
    "               nn.init.kaiming_normal_(module.weight)\n",
    "               nn.init.zeros_(module.bias)\n",
    "\n",
    "   def forward(self, input_ids, attention_mask, features): #forward pass\n",
    "       #create an embedding for each token in our essay text\n",
    "       outputs = self.bert(input_ids=input_ids, attention_mask=attention_mask, return_dict=True) \n",
    "       cls_embedding = outputs.last_hidden_state[:, 0, :] #get CLS token embedding which represents essay\n",
    "       combined_features = torch.cat([cls_embedding, features], dim=1) #combine CLS with features\n",
    "       return self.regression_head(combined_features) #pass them through the regression head \n",
    "\n",
    "def train_model(model, train_loader, criterion, optimizer, epoch):\n",
    "   model.train() #set the model in training mode \n",
    "   total_loss = 0\n",
    "   batches_no = 0\n",
    "\n",
    "    #iterate through batches with progress bar\n",
    "   for batch in tqdm(train_loader, desc=f'Epoch {epoch}', leave=False):\n",
    "       input_ids = batch['input_ids'].to(device) #move all batch data to correct device so gpu or cpu\n",
    "       attention_mask = batch['attention_mask'].to(device)\n",
    "       features = batch['features'].to(device)\n",
    "       scores = batch['score'].to(device)\n",
    "\n",
    "       optimizer.zero_grad() #clear gradients from before\n",
    "       outputs = model(input_ids, attention_mask, features) #forward pass\n",
    "       loss = criterion(outputs, scores) #calculate loss\n",
    "       loss.backward() #backprobagation\n",
    "       optimizer.step() #update weights\n",
    "        #track the total loss\n",
    "       total_loss += loss.item()\n",
    "       batches_no += 1\n",
    "\n",
    "   avg_loss = total_loss / batches_no #calculate avg loss for each epoch\n",
    "   print(f'epoch {epoch}: avg training loss = {avg_loss:.4f}')\n",
    "   return avg_loss\n",
    "\n",
    "def evaluate_model(model, val_loader, criterion, val_prompt_id):\n",
    "   model.eval() #set model in evaluation mode\n",
    "   total_loss = 0\n",
    "   batches_no = 0\n",
    "   all_predictions = [] #to store all our predictions\n",
    "   all_real_scores = [] #to store all the real scores\n",
    "\n",
    "   print(\"\\n--------------------Evaluating-----------------------\")\n",
    "   with torch.no_grad(): #don't track gradients during evaluation\n",
    "       for batch in tqdm(val_loader, desc='Validation', leave=False):\n",
    "           input_ids = batch['input_ids'].to(device)\n",
    "           attention_mask = batch['attention_mask'].to(device)\n",
    "           features = batch['features'].to(device)\n",
    "           scores = batch['score'].to(device)\n",
    "\n",
    "           outputs = model(input_ids, attention_mask, features) \n",
    "           loss = criterion(outputs, scores) #calculate loss\n",
    "\n",
    "           total_loss += loss.item()\n",
    "           batches_no += 1\n",
    "            #convert normalized scores back to original range\n",
    "           predictions = denormalize_scores(outputs.cpu().numpy(), val_prompt_id)\n",
    "           targets = denormalize_scores(scores.cpu().numpy(), val_prompt_id)\n",
    "           all_predictions.extend(predictions)\n",
    "           all_real_scores.extend(targets)\n",
    "    #calculate average loss and QWK score\n",
    "   avg_loss = total_loss / batches_no\n",
    "   qwk = quadratic_weighted_kappa(np.round(all_real_scores), np.round(all_predictions))\n",
    "   \n",
    "   print(f\"\\nValidation results for prompt {val_prompt_id}:\")\n",
    "   print(f\"Avg loss: {avg_loss:.4f}\")\n",
    "   print(f\"QWK: {qwk:.4f}\")\n",
    "   #print min, max and mean of predicted and actual to see if we are normalizing and denormalizing properly and how far off we are from actual values\n",
    "   print(f\"Predicted min: {np.min(all_predictions):.2f}, max: {np.max(all_predictions):.2f}, mean: {np.mean(all_predictions):.2f}\")\n",
    "   print(f\"Actual min: {np.min(all_real_scores):.2f}, max: {np.max(all_real_scores):.2f}, mean: {np.mean(all_real_scores):.2f}\")\n",
    "   \n",
    "   return avg_loss, qwk\n",
    "\n"
   ]
  },
  {
   "cell_type": "markdown",
   "metadata": {},
   "source": [
    "### Grid search"
   ]
  },
  {
   "cell_type": "code",
   "execution_count": null,
   "metadata": {},
   "outputs": [
    {
     "name": "stdout",
     "output_type": "stream",
     "text": [
      "\n",
      "==================================================\n",
      "Starting Holistic scoring using BERT model at 2024-12-07 16:12:17\n",
      "==================================================\n",
      "\n",
      "==================================================\n",
      "Trying regression head with 0 hidden units\n",
      "\n",
      "--------------------------------------------------\n",
      "Validation prompt no. 2\n",
      "\n",
      "Starting training...\n"
     ]
    },
    {
     "name": "stderr",
     "output_type": "stream",
     "text": [
      "                                                          \r"
     ]
    },
    {
     "name": "stdout",
     "output_type": "stream",
     "text": [
      "epoch 1: avg training loss = 2.5709\n",
      "\n",
      "--------------------Evaluating-----------------------\n"
     ]
    },
    {
     "name": "stderr",
     "output_type": "stream",
     "text": [
      "                                                           \r"
     ]
    },
    {
     "name": "stdout",
     "output_type": "stream",
     "text": [
      "\n",
      "Validation results for prompt 2:\n",
      "Avg loss: 0.0409\n",
      "QWK: 0.4115\n",
      "Predicted min: 1.40, max: 7.40, mean: 4.22\n",
      "Actual min: 1.00, max: 6.00, mean: 3.41\n"
     ]
    },
    {
     "name": "stderr",
     "output_type": "stream",
     "text": [
      "                                                          \r"
     ]
    },
    {
     "name": "stdout",
     "output_type": "stream",
     "text": [
      "epoch 2: avg training loss = 0.0359\n",
      "\n",
      "--------------------Evaluating-----------------------\n"
     ]
    },
    {
     "name": "stderr",
     "output_type": "stream",
     "text": [
      "                                                           \r"
     ]
    },
    {
     "name": "stdout",
     "output_type": "stream",
     "text": [
      "\n",
      "Validation results for prompt 2:\n",
      "Avg loss: 0.0163\n",
      "QWK: 0.6073\n",
      "Predicted min: 1.18, max: 6.95, mean: 3.67\n",
      "Actual min: 1.00, max: 6.00, mean: 3.41\n"
     ]
    },
    {
     "name": "stderr",
     "output_type": "stream",
     "text": [
      "                                                          \r"
     ]
    },
    {
     "name": "stdout",
     "output_type": "stream",
     "text": [
      "epoch 3: avg training loss = 0.0334\n",
      "\n",
      "--------------------Evaluating-----------------------\n"
     ]
    },
    {
     "name": "stderr",
     "output_type": "stream",
     "text": [
      "                                                           \r"
     ]
    },
    {
     "name": "stdout",
     "output_type": "stream",
     "text": [
      "\n",
      "Validation results for prompt 2:\n",
      "Avg loss: 0.0488\n",
      "QWK: 0.3798\n",
      "Predicted min: 1.91, max: 7.88, mean: 4.35\n",
      "Actual min: 1.00, max: 6.00, mean: 3.41\n"
     ]
    },
    {
     "name": "stderr",
     "output_type": "stream",
     "text": [
      "                                                          \r"
     ]
    },
    {
     "name": "stdout",
     "output_type": "stream",
     "text": [
      "epoch 4: avg training loss = 0.0315\n",
      "\n",
      "--------------------Evaluating-----------------------\n"
     ]
    },
    {
     "name": "stderr",
     "output_type": "stream",
     "text": [
      "                                                           \r"
     ]
    },
    {
     "name": "stdout",
     "output_type": "stream",
     "text": [
      "\n",
      "Validation results for prompt 2:\n",
      "Avg loss: 0.0237\n",
      "QWK: 0.5367\n",
      "Predicted min: 1.54, max: 7.51, mean: 3.91\n",
      "Actual min: 1.00, max: 6.00, mean: 3.41\n"
     ]
    },
    {
     "name": "stderr",
     "output_type": "stream",
     "text": [
      "                                                          \r"
     ]
    },
    {
     "name": "stdout",
     "output_type": "stream",
     "text": [
      "epoch 5: avg training loss = 0.0302\n",
      "\n",
      "--------------------Evaluating-----------------------\n"
     ]
    },
    {
     "name": "stderr",
     "output_type": "stream",
     "text": [
      "                                                           \r"
     ]
    },
    {
     "name": "stdout",
     "output_type": "stream",
     "text": [
      "\n",
      "Validation results for prompt 2:\n",
      "Avg loss: 0.0149\n",
      "QWK: 0.6270\n",
      "Predicted min: 1.35, max: 7.12, mean: 3.60\n",
      "Actual min: 1.00, max: 6.00, mean: 3.41\n",
      "\n",
      "--------------------------------------------------\n",
      "Validation prompt no. 3\n",
      "\n",
      "Starting training...\n"
     ]
    },
    {
     "name": "stderr",
     "output_type": "stream",
     "text": [
      "                                                          \r"
     ]
    },
    {
     "name": "stdout",
     "output_type": "stream",
     "text": [
      "epoch 1: avg training loss = 2.1774\n",
      "\n",
      "--------------------Evaluating-----------------------\n"
     ]
    },
    {
     "name": "stderr",
     "output_type": "stream",
     "text": [
      "                                                           \r"
     ]
    },
    {
     "name": "stdout",
     "output_type": "stream",
     "text": [
      "\n",
      "Validation results for prompt 3:\n",
      "Avg loss: 0.0523\n",
      "QWK: 0.3320\n",
      "Predicted min: 0.96, max: 3.29, mean: 1.74\n",
      "Actual min: 0.00, max: 3.00, mean: 1.85\n"
     ]
    },
    {
     "name": "stderr",
     "output_type": "stream",
     "text": [
      "                                                          \r"
     ]
    },
    {
     "name": "stdout",
     "output_type": "stream",
     "text": [
      "epoch 2: avg training loss = 0.0310\n",
      "\n",
      "--------------------Evaluating-----------------------\n"
     ]
    },
    {
     "name": "stderr",
     "output_type": "stream",
     "text": [
      "                                                           \r"
     ]
    },
    {
     "name": "stdout",
     "output_type": "stream",
     "text": [
      "\n",
      "Validation results for prompt 3:\n",
      "Avg loss: 0.0437\n",
      "QWK: 0.5199\n",
      "Predicted min: 0.66, max: 3.95, mean: 1.71\n",
      "Actual min: 0.00, max: 3.00, mean: 1.85\n"
     ]
    },
    {
     "name": "stderr",
     "output_type": "stream",
     "text": [
      "                                                          \r"
     ]
    },
    {
     "name": "stdout",
     "output_type": "stream",
     "text": [
      "epoch 3: avg training loss = 0.0276\n",
      "\n",
      "--------------------Evaluating-----------------------\n"
     ]
    },
    {
     "name": "stderr",
     "output_type": "stream",
     "text": [
      "                                                           \r"
     ]
    },
    {
     "name": "stdout",
     "output_type": "stream",
     "text": [
      "\n",
      "Validation results for prompt 3:\n",
      "Avg loss: 0.0449\n",
      "QWK: 0.5430\n",
      "Predicted min: 0.42, max: 3.95, mean: 1.64\n",
      "Actual min: 0.00, max: 3.00, mean: 1.85\n"
     ]
    },
    {
     "name": "stderr",
     "output_type": "stream",
     "text": [
      "                                                          \r"
     ]
    },
    {
     "name": "stdout",
     "output_type": "stream",
     "text": [
      "epoch 4: avg training loss = 0.0264\n",
      "\n",
      "--------------------Evaluating-----------------------\n"
     ]
    },
    {
     "name": "stderr",
     "output_type": "stream",
     "text": [
      "                                                           \r"
     ]
    },
    {
     "name": "stdout",
     "output_type": "stream",
     "text": [
      "\n",
      "Validation results for prompt 3:\n",
      "Avg loss: 0.0391\n",
      "QWK: 0.5230\n",
      "Predicted min: 0.52, max: 4.17, mean: 1.86\n",
      "Actual min: 0.00, max: 3.00, mean: 1.85\n"
     ]
    },
    {
     "name": "stderr",
     "output_type": "stream",
     "text": [
      "                                                          \r"
     ]
    },
    {
     "name": "stdout",
     "output_type": "stream",
     "text": [
      "epoch 5: avg training loss = 0.0257\n",
      "\n",
      "--------------------Evaluating-----------------------\n"
     ]
    },
    {
     "name": "stderr",
     "output_type": "stream",
     "text": [
      "                                                           \r"
     ]
    },
    {
     "name": "stdout",
     "output_type": "stream",
     "text": [
      "\n",
      "Validation results for prompt 3:\n",
      "Avg loss: 0.0386\n",
      "QWK: 0.5504\n",
      "Predicted min: 0.43, max: 4.14, mean: 1.84\n",
      "Actual min: 0.00, max: 3.00, mean: 1.85\n",
      "\n",
      "--------------------------------------------------\n",
      "Validation prompt no. 4\n",
      "\n",
      "Starting training...\n"
     ]
    },
    {
     "name": "stderr",
     "output_type": "stream",
     "text": [
      "                                                          \r"
     ]
    },
    {
     "name": "stdout",
     "output_type": "stream",
     "text": [
      "epoch 1: avg training loss = 1.9327\n",
      "\n",
      "--------------------Evaluating-----------------------\n"
     ]
    },
    {
     "name": "stderr",
     "output_type": "stream",
     "text": [
      "                                                           \r"
     ]
    },
    {
     "name": "stdout",
     "output_type": "stream",
     "text": [
      "\n",
      "Validation results for prompt 4:\n",
      "Avg loss: 0.0734\n",
      "QWK: 0.3583\n",
      "Predicted min: 0.79, max: 3.44, mean: 1.79\n",
      "Actual min: 0.00, max: 3.00, mean: 1.43\n"
     ]
    },
    {
     "name": "stderr",
     "output_type": "stream",
     "text": [
      "                                                          \r"
     ]
    },
    {
     "name": "stdout",
     "output_type": "stream",
     "text": [
      "epoch 2: avg training loss = 0.0289\n",
      "\n",
      "--------------------Evaluating-----------------------\n"
     ]
    },
    {
     "name": "stderr",
     "output_type": "stream",
     "text": [
      "                                                           \r"
     ]
    },
    {
     "name": "stdout",
     "output_type": "stream",
     "text": [
      "\n",
      "Validation results for prompt 4:\n",
      "Avg loss: 0.0903\n",
      "QWK: 0.2944\n",
      "Predicted min: 0.89, max: 3.94, mean: 2.00\n",
      "Actual min: 0.00, max: 3.00, mean: 1.43\n"
     ]
    },
    {
     "name": "stderr",
     "output_type": "stream",
     "text": [
      "                                                          \r"
     ]
    },
    {
     "name": "stdout",
     "output_type": "stream",
     "text": [
      "epoch 3: avg training loss = 0.0256\n",
      "\n",
      "--------------------Evaluating-----------------------\n"
     ]
    },
    {
     "name": "stderr",
     "output_type": "stream",
     "text": [
      "                                                           \r"
     ]
    },
    {
     "name": "stdout",
     "output_type": "stream",
     "text": [
      "\n",
      "Validation results for prompt 4:\n",
      "Avg loss: 0.0583\n",
      "QWK: 0.5491\n",
      "Predicted min: 0.51, max: 3.77, mean: 1.66\n",
      "Actual min: 0.00, max: 3.00, mean: 1.43\n"
     ]
    },
    {
     "name": "stderr",
     "output_type": "stream",
     "text": [
      "                                                          \r"
     ]
    },
    {
     "name": "stdout",
     "output_type": "stream",
     "text": [
      "epoch 4: avg training loss = 0.0243\n",
      "\n",
      "--------------------Evaluating-----------------------\n"
     ]
    },
    {
     "name": "stderr",
     "output_type": "stream",
     "text": [
      "                                                           \r"
     ]
    },
    {
     "name": "stdout",
     "output_type": "stream",
     "text": [
      "\n",
      "Validation results for prompt 4:\n",
      "Avg loss: 0.0787\n",
      "QWK: 0.4003\n",
      "Predicted min: 0.77, max: 4.09, mean: 1.92\n",
      "Actual min: 0.00, max: 3.00, mean: 1.43\n"
     ]
    },
    {
     "name": "stderr",
     "output_type": "stream",
     "text": [
      "                                                          \r"
     ]
    },
    {
     "name": "stdout",
     "output_type": "stream",
     "text": [
      "epoch 5: avg training loss = 0.0231\n",
      "\n",
      "--------------------Evaluating-----------------------\n"
     ]
    },
    {
     "name": "stderr",
     "output_type": "stream",
     "text": [
      "                                                           \r"
     ]
    },
    {
     "name": "stdout",
     "output_type": "stream",
     "text": [
      "\n",
      "Validation results for prompt 4:\n",
      "Avg loss: 0.0685\n",
      "QWK: 0.4649\n",
      "Predicted min: 0.69, max: 4.06, mean: 1.83\n",
      "Actual min: 0.00, max: 3.00, mean: 1.43\n",
      "\n",
      "--------------------------------------------------\n",
      "Validation prompt no. 5\n",
      "\n",
      "Starting training...\n"
     ]
    },
    {
     "name": "stderr",
     "output_type": "stream",
     "text": [
      "                                                          \r"
     ]
    },
    {
     "name": "stdout",
     "output_type": "stream",
     "text": [
      "epoch 1: avg training loss = 1.9546\n",
      "\n",
      "--------------------Evaluating-----------------------\n"
     ]
    },
    {
     "name": "stderr",
     "output_type": "stream",
     "text": [
      "                                                           \r"
     ]
    },
    {
     "name": "stdout",
     "output_type": "stream",
     "text": [
      "\n",
      "Validation results for prompt 5:\n",
      "Avg loss: 0.0280\n",
      "QWK: 0.5840\n",
      "Predicted min: 0.74, max: 4.43, mean: 2.35\n",
      "Actual min: 0.00, max: 4.00, mean: 2.41\n"
     ]
    },
    {
     "name": "stderr",
     "output_type": "stream",
     "text": [
      "                                                          \r"
     ]
    },
    {
     "name": "stdout",
     "output_type": "stream",
     "text": [
      "epoch 2: avg training loss = 0.0392\n",
      "\n",
      "--------------------Evaluating-----------------------\n"
     ]
    },
    {
     "name": "stderr",
     "output_type": "stream",
     "text": [
      "                                                           \r"
     ]
    },
    {
     "name": "stdout",
     "output_type": "stream",
     "text": [
      "\n",
      "Validation results for prompt 5:\n",
      "Avg loss: 0.0249\n",
      "QWK: 0.6330\n",
      "Predicted min: 0.76, max: 4.78, mean: 2.40\n",
      "Actual min: 0.00, max: 4.00, mean: 2.41\n"
     ]
    },
    {
     "name": "stderr",
     "output_type": "stream",
     "text": [
      "                                                          \r"
     ]
    },
    {
     "name": "stdout",
     "output_type": "stream",
     "text": [
      "epoch 3: avg training loss = 0.0324\n",
      "\n",
      "--------------------Evaluating-----------------------\n"
     ]
    },
    {
     "name": "stderr",
     "output_type": "stream",
     "text": [
      "                                                           \r"
     ]
    },
    {
     "name": "stdout",
     "output_type": "stream",
     "text": [
      "\n",
      "Validation results for prompt 5:\n",
      "Avg loss: 0.0237\n",
      "QWK: 0.6615\n",
      "Predicted min: 0.76, max: 4.97, mean: 2.42\n",
      "Actual min: 0.00, max: 4.00, mean: 2.41\n"
     ]
    },
    {
     "name": "stderr",
     "output_type": "stream",
     "text": [
      "                                                          \r"
     ]
    },
    {
     "name": "stdout",
     "output_type": "stream",
     "text": [
      "epoch 4: avg training loss = 0.0301\n",
      "\n",
      "--------------------Evaluating-----------------------\n"
     ]
    },
    {
     "name": "stderr",
     "output_type": "stream",
     "text": [
      "                                                           \r"
     ]
    },
    {
     "name": "stdout",
     "output_type": "stream",
     "text": [
      "\n",
      "Validation results for prompt 5:\n",
      "Avg loss: 0.0231\n",
      "QWK: 0.6708\n",
      "Predicted min: 0.79, max: 5.01, mean: 2.42\n",
      "Actual min: 0.00, max: 4.00, mean: 2.41\n"
     ]
    },
    {
     "name": "stderr",
     "output_type": "stream",
     "text": [
      "                                                          \r"
     ]
    },
    {
     "name": "stdout",
     "output_type": "stream",
     "text": [
      "epoch 5: avg training loss = 0.0289\n",
      "\n",
      "--------------------Evaluating-----------------------\n"
     ]
    },
    {
     "name": "stderr",
     "output_type": "stream",
     "text": [
      "                                                           \r"
     ]
    },
    {
     "name": "stdout",
     "output_type": "stream",
     "text": [
      "\n",
      "Validation results for prompt 5:\n",
      "Avg loss: 0.0231\n",
      "QWK: 0.6743\n",
      "Predicted min: 0.72, max: 4.94, mean: 2.34\n",
      "Actual min: 0.00, max: 4.00, mean: 2.41\n",
      "\n",
      "--------------------------------------------------\n",
      "Validation prompt no. 6\n",
      "\n",
      "Starting training...\n"
     ]
    },
    {
     "name": "stderr",
     "output_type": "stream",
     "text": [
      "                                                          \r"
     ]
    },
    {
     "name": "stdout",
     "output_type": "stream",
     "text": [
      "epoch 1: avg training loss = 1.8334\n",
      "\n",
      "--------------------Evaluating-----------------------\n"
     ]
    },
    {
     "name": "stderr",
     "output_type": "stream",
     "text": [
      "                                                           \r"
     ]
    },
    {
     "name": "stdout",
     "output_type": "stream",
     "text": [
      "\n",
      "Validation results for prompt 6:\n",
      "Avg loss: 0.0469\n",
      "QWK: 0.3564\n",
      "Predicted min: 1.12, max: 4.25, mean: 2.41\n",
      "Actual min: 0.00, max: 4.00, mean: 2.72\n"
     ]
    },
    {
     "name": "stderr",
     "output_type": "stream",
     "text": [
      "                                                          \r"
     ]
    },
    {
     "name": "stdout",
     "output_type": "stream",
     "text": [
      "epoch 2: avg training loss = 0.0359\n",
      "\n",
      "--------------------Evaluating-----------------------\n"
     ]
    },
    {
     "name": "stderr",
     "output_type": "stream",
     "text": [
      "                                                           \r"
     ]
    },
    {
     "name": "stdout",
     "output_type": "stream",
     "text": [
      "\n",
      "Validation results for prompt 6:\n",
      "Avg loss: 0.0345\n",
      "QWK: 0.5222\n",
      "Predicted min: 1.16, max: 5.36, mean: 2.79\n",
      "Actual min: 0.00, max: 4.00, mean: 2.72\n"
     ]
    },
    {
     "name": "stderr",
     "output_type": "stream",
     "text": [
      "                                                          \r"
     ]
    },
    {
     "name": "stdout",
     "output_type": "stream",
     "text": [
      "epoch 3: avg training loss = 0.0304\n",
      "\n",
      "--------------------Evaluating-----------------------\n"
     ]
    },
    {
     "name": "stderr",
     "output_type": "stream",
     "text": [
      "                                                           \r"
     ]
    },
    {
     "name": "stdout",
     "output_type": "stream",
     "text": [
      "\n",
      "Validation results for prompt 6:\n",
      "Avg loss: 0.0357\n",
      "QWK: 0.5316\n",
      "Predicted min: 1.18, max: 5.70, mean: 2.94\n",
      "Actual min: 0.00, max: 4.00, mean: 2.72\n"
     ]
    },
    {
     "name": "stderr",
     "output_type": "stream",
     "text": [
      "                                                          \r"
     ]
    },
    {
     "name": "stdout",
     "output_type": "stream",
     "text": [
      "epoch 4: avg training loss = 0.0282\n",
      "\n",
      "--------------------Evaluating-----------------------\n"
     ]
    },
    {
     "name": "stderr",
     "output_type": "stream",
     "text": [
      "                                                           \r"
     ]
    },
    {
     "name": "stdout",
     "output_type": "stream",
     "text": [
      "\n",
      "Validation results for prompt 6:\n",
      "Avg loss: 0.0336\n",
      "QWK: 0.5501\n",
      "Predicted min: 0.75, max: 5.26, mean: 2.56\n",
      "Actual min: 0.00, max: 4.00, mean: 2.72\n"
     ]
    },
    {
     "name": "stderr",
     "output_type": "stream",
     "text": [
      "                                                          \r"
     ]
    },
    {
     "name": "stdout",
     "output_type": "stream",
     "text": [
      "epoch 5: avg training loss = 0.0272\n",
      "\n",
      "--------------------Evaluating-----------------------\n"
     ]
    },
    {
     "name": "stderr",
     "output_type": "stream",
     "text": [
      "                                                           \r"
     ]
    },
    {
     "name": "stdout",
     "output_type": "stream",
     "text": [
      "\n",
      "Validation results for prompt 6:\n",
      "Avg loss: 0.0338\n",
      "QWK: 0.5564\n",
      "Predicted min: 0.57, max: 5.33, mean: 2.53\n",
      "Actual min: 0.00, max: 4.00, mean: 2.72\n",
      "\n",
      "--------------------------------------------------\n",
      "Validation prompt no. 7\n",
      "\n",
      "Starting training...\n"
     ]
    },
    {
     "name": "stderr",
     "output_type": "stream",
     "text": [
      "                                                          \r"
     ]
    },
    {
     "name": "stdout",
     "output_type": "stream",
     "text": [
      "epoch 1: avg training loss = 1.6764\n",
      "\n",
      "--------------------Evaluating-----------------------\n"
     ]
    },
    {
     "name": "stderr",
     "output_type": "stream",
     "text": [
      "                                                           \r"
     ]
    },
    {
     "name": "stdout",
     "output_type": "stream",
     "text": [
      "\n",
      "Validation results for prompt 7:\n",
      "Avg loss: 0.0279\n",
      "QWK: 0.4471\n",
      "Predicted min: 0.24, max: 29.71, mean: 12.84\n",
      "Actual min: 2.00, max: 24.00, mean: 16.06\n"
     ]
    },
    {
     "name": "stderr",
     "output_type": "stream",
     "text": [
      "                                                          \r"
     ]
    },
    {
     "name": "stdout",
     "output_type": "stream",
     "text": [
      "epoch 2: avg training loss = 0.0365\n",
      "\n",
      "--------------------Evaluating-----------------------\n"
     ]
    },
    {
     "name": "stderr",
     "output_type": "stream",
     "text": [
      "                                                           \r"
     ]
    },
    {
     "name": "stdout",
     "output_type": "stream",
     "text": [
      "\n",
      "Validation results for prompt 7:\n",
      "Avg loss: 0.0280\n",
      "QWK: 0.5052\n",
      "Predicted min: -0.47, max: 35.25, mean: 12.61\n",
      "Actual min: 2.00, max: 24.00, mean: 16.06\n"
     ]
    },
    {
     "name": "stderr",
     "output_type": "stream",
     "text": [
      "                                                          \r"
     ]
    },
    {
     "name": "stdout",
     "output_type": "stream",
     "text": [
      "epoch 3: avg training loss = 0.0317\n",
      "\n",
      "--------------------Evaluating-----------------------\n"
     ]
    },
    {
     "name": "stderr",
     "output_type": "stream",
     "text": [
      "                                                           \r"
     ]
    },
    {
     "name": "stdout",
     "output_type": "stream",
     "text": [
      "\n",
      "Validation results for prompt 7:\n",
      "Avg loss: 0.0313\n",
      "QWK: 0.4929\n",
      "Predicted min: -0.98, max: 36.98, mean: 12.16\n",
      "Actual min: 2.00, max: 24.00, mean: 16.06\n"
     ]
    },
    {
     "name": "stderr",
     "output_type": "stream",
     "text": [
      "                                                          \r"
     ]
    },
    {
     "name": "stdout",
     "output_type": "stream",
     "text": [
      "epoch 4: avg training loss = 0.0300\n",
      "\n",
      "--------------------Evaluating-----------------------\n"
     ]
    },
    {
     "name": "stderr",
     "output_type": "stream",
     "text": [
      "                                                           \r"
     ]
    },
    {
     "name": "stdout",
     "output_type": "stream",
     "text": [
      "\n",
      "Validation results for prompt 7:\n",
      "Avg loss: 0.0291\n",
      "QWK: 0.5185\n",
      "Predicted min: -0.92, max: 38.23, mean: 12.42\n",
      "Actual min: 2.00, max: 24.00, mean: 16.06\n"
     ]
    },
    {
     "name": "stderr",
     "output_type": "stream",
     "text": [
      "                                                          \r"
     ]
    },
    {
     "name": "stdout",
     "output_type": "stream",
     "text": [
      "epoch 5: avg training loss = 0.0290\n",
      "\n",
      "--------------------Evaluating-----------------------\n"
     ]
    },
    {
     "name": "stderr",
     "output_type": "stream",
     "text": [
      "                                                           \r"
     ]
    },
    {
     "name": "stdout",
     "output_type": "stream",
     "text": [
      "\n",
      "Validation results for prompt 7:\n",
      "Avg loss: 0.0168\n",
      "QWK: 0.6448\n",
      "Predicted min: 0.96, max: 40.34, mean: 14.46\n",
      "Actual min: 2.00, max: 24.00, mean: 16.06\n",
      "\n",
      "--------------------------------------------------\n",
      "Validation prompt no. 8\n",
      "\n",
      "Starting training...\n"
     ]
    },
    {
     "name": "stderr",
     "output_type": "stream",
     "text": [
      "                                                          \r"
     ]
    },
    {
     "name": "stdout",
     "output_type": "stream",
     "text": [
      "epoch 1: avg training loss = 2.0311\n",
      "\n",
      "--------------------Evaluating-----------------------\n"
     ]
    },
    {
     "name": "stderr",
     "output_type": "stream",
     "text": [
      "                                                           \r"
     ]
    },
    {
     "name": "stdout",
     "output_type": "stream",
     "text": [
      "\n",
      "Validation results for prompt 8:\n",
      "Avg loss: 0.0310\n",
      "QWK: 0.3342\n",
      "Predicted min: 18.15, max: 64.63, mean: 45.38\n",
      "Actual min: 10.00, max: 60.00, mean: 36.95\n"
     ]
    },
    {
     "name": "stderr",
     "output_type": "stream",
     "text": [
      "                                                          \r"
     ]
    },
    {
     "name": "stdout",
     "output_type": "stream",
     "text": [
      "epoch 2: avg training loss = 0.0309\n",
      "\n",
      "--------------------Evaluating-----------------------\n"
     ]
    },
    {
     "name": "stderr",
     "output_type": "stream",
     "text": [
      "                                                           \r"
     ]
    },
    {
     "name": "stdout",
     "output_type": "stream",
     "text": [
      "\n",
      "Validation results for prompt 8:\n",
      "Avg loss: 0.0498\n",
      "QWK: 0.3055\n",
      "Predicted min: 14.40, max: 70.71, mean: 47.14\n",
      "Actual min: 10.00, max: 60.00, mean: 36.95\n"
     ]
    },
    {
     "name": "stderr",
     "output_type": "stream",
     "text": [
      "                                                          \r"
     ]
    },
    {
     "name": "stdout",
     "output_type": "stream",
     "text": [
      "epoch 3: avg training loss = 0.0282\n",
      "\n",
      "--------------------Evaluating-----------------------\n"
     ]
    },
    {
     "name": "stderr",
     "output_type": "stream",
     "text": [
      "                                                           \r"
     ]
    },
    {
     "name": "stdout",
     "output_type": "stream",
     "text": [
      "\n",
      "Validation results for prompt 8:\n",
      "Avg loss: 0.0331\n",
      "QWK: 0.4086\n",
      "Predicted min: 9.37, max: 66.71, mean: 43.09\n",
      "Actual min: 10.00, max: 60.00, mean: 36.95\n"
     ]
    },
    {
     "name": "stderr",
     "output_type": "stream",
     "text": [
      "                                                          \r"
     ]
    },
    {
     "name": "stdout",
     "output_type": "stream",
     "text": [
      "epoch 4: avg training loss = 0.0274\n",
      "\n",
      "--------------------Evaluating-----------------------\n"
     ]
    },
    {
     "name": "stderr",
     "output_type": "stream",
     "text": [
      "                                                           \r"
     ]
    },
    {
     "name": "stdout",
     "output_type": "stream",
     "text": [
      "\n",
      "Validation results for prompt 8:\n",
      "Avg loss: 0.0572\n",
      "QWK: 0.2920\n",
      "Predicted min: 12.67, max: 71.51, mean: 47.89\n",
      "Actual min: 10.00, max: 60.00, mean: 36.95\n"
     ]
    },
    {
     "name": "stderr",
     "output_type": "stream",
     "text": [
      "                                                          \r"
     ]
    },
    {
     "name": "stdout",
     "output_type": "stream",
     "text": [
      "epoch 5: avg training loss = 0.0270\n",
      "\n",
      "--------------------Evaluating-----------------------\n"
     ]
    },
    {
     "name": "stderr",
     "output_type": "stream",
     "text": [
      "                                                           \r"
     ]
    },
    {
     "name": "stdout",
     "output_type": "stream",
     "text": [
      "\n",
      "Validation results for prompt 8:\n",
      "Avg loss: 0.0608\n",
      "QWK: 0.2818\n",
      "Predicted min: 12.09, max: 72.39, mean: 48.38\n",
      "Actual min: 10.00, max: 60.00, mean: 36.95\n",
      "\n",
      "==================================================\n",
      "Trying regression head with 4 hidden units\n",
      "\n",
      "--------------------------------------------------\n",
      "Validation prompt no. 2\n",
      "\n",
      "Starting training...\n"
     ]
    },
    {
     "name": "stderr",
     "output_type": "stream",
     "text": [
      "                                                          \r"
     ]
    },
    {
     "name": "stdout",
     "output_type": "stream",
     "text": [
      "epoch 1: avg training loss = 0.1190\n",
      "\n",
      "--------------------Evaluating-----------------------\n"
     ]
    },
    {
     "name": "stderr",
     "output_type": "stream",
     "text": [
      "                                                           \r"
     ]
    },
    {
     "name": "stdout",
     "output_type": "stream",
     "text": [
      "\n",
      "Validation results for prompt 2:\n",
      "Avg loss: 0.0319\n",
      "QWK: 0.4458\n",
      "Predicted min: 2.24, max: 7.09, mean: 4.11\n",
      "Actual min: 1.00, max: 6.00, mean: 3.41\n"
     ]
    },
    {
     "name": "stderr",
     "output_type": "stream",
     "text": [
      "                                                          \r"
     ]
    },
    {
     "name": "stdout",
     "output_type": "stream",
     "text": [
      "epoch 2: avg training loss = 0.0321\n",
      "\n",
      "--------------------Evaluating-----------------------\n"
     ]
    },
    {
     "name": "stderr",
     "output_type": "stream",
     "text": [
      "                                                           \r"
     ]
    },
    {
     "name": "stdout",
     "output_type": "stream",
     "text": [
      "\n",
      "Validation results for prompt 2:\n",
      "Avg loss: 0.0364\n",
      "QWK: 0.4431\n",
      "Predicted min: 2.03, max: 7.48, mean: 4.19\n",
      "Actual min: 1.00, max: 6.00, mean: 3.41\n"
     ]
    },
    {
     "name": "stderr",
     "output_type": "stream",
     "text": [
      "                                                          \r"
     ]
    },
    {
     "name": "stdout",
     "output_type": "stream",
     "text": [
      "epoch 3: avg training loss = 0.0295\n",
      "\n",
      "--------------------Evaluating-----------------------\n"
     ]
    },
    {
     "name": "stderr",
     "output_type": "stream",
     "text": [
      "                                                           \r"
     ]
    },
    {
     "name": "stdout",
     "output_type": "stream",
     "text": [
      "\n",
      "Validation results for prompt 2:\n",
      "Avg loss: 0.0259\n",
      "QWK: 0.5277\n",
      "Predicted min: 1.68, max: 6.66, mean: 3.99\n",
      "Actual min: 1.00, max: 6.00, mean: 3.41\n"
     ]
    },
    {
     "name": "stderr",
     "output_type": "stream",
     "text": [
      "                                                          \r"
     ]
    },
    {
     "name": "stdout",
     "output_type": "stream",
     "text": [
      "epoch 4: avg training loss = 0.0279\n",
      "\n",
      "--------------------Evaluating-----------------------\n"
     ]
    },
    {
     "name": "stderr",
     "output_type": "stream",
     "text": [
      "                                                           \r"
     ]
    },
    {
     "name": "stdout",
     "output_type": "stream",
     "text": [
      "\n",
      "Validation results for prompt 2:\n",
      "Avg loss: 0.0258\n",
      "QWK: 0.5458\n",
      "Predicted min: 1.46, max: 6.71, mean: 3.97\n",
      "Actual min: 1.00, max: 6.00, mean: 3.41\n"
     ]
    },
    {
     "name": "stderr",
     "output_type": "stream",
     "text": [
      "                                                          \r"
     ]
    },
    {
     "name": "stdout",
     "output_type": "stream",
     "text": [
      "epoch 5: avg training loss = 0.0267\n",
      "\n",
      "--------------------Evaluating-----------------------\n"
     ]
    },
    {
     "name": "stderr",
     "output_type": "stream",
     "text": [
      "                                                           \r"
     ]
    },
    {
     "name": "stdout",
     "output_type": "stream",
     "text": [
      "\n",
      "Validation results for prompt 2:\n",
      "Avg loss: 0.0200\n",
      "QWK: 0.6143\n",
      "Predicted min: 1.33, max: 6.47, mean: 3.81\n",
      "Actual min: 1.00, max: 6.00, mean: 3.41\n",
      "\n",
      "--------------------------------------------------\n",
      "Validation prompt no. 3\n",
      "\n",
      "Starting training...\n"
     ]
    },
    {
     "name": "stderr",
     "output_type": "stream",
     "text": [
      "                                                          \r"
     ]
    },
    {
     "name": "stdout",
     "output_type": "stream",
     "text": [
      "epoch 1: avg training loss = 0.8549\n",
      "\n",
      "--------------------Evaluating-----------------------\n"
     ]
    },
    {
     "name": "stderr",
     "output_type": "stream",
     "text": [
      "                                                           \r"
     ]
    },
    {
     "name": "stdout",
     "output_type": "stream",
     "text": [
      "\n",
      "Validation results for prompt 3:\n",
      "Avg loss: 0.0443\n",
      "QWK: 0.4657\n",
      "Predicted min: 0.87, max: 3.48, mean: 1.75\n",
      "Actual min: 0.00, max: 3.00, mean: 1.85\n"
     ]
    },
    {
     "name": "stderr",
     "output_type": "stream",
     "text": [
      "                                                          \r"
     ]
    },
    {
     "name": "stdout",
     "output_type": "stream",
     "text": [
      "epoch 2: avg training loss = 0.0280\n",
      "\n",
      "--------------------Evaluating-----------------------\n"
     ]
    },
    {
     "name": "stderr",
     "output_type": "stream",
     "text": [
      "                                                           \r"
     ]
    },
    {
     "name": "stdout",
     "output_type": "stream",
     "text": [
      "\n",
      "Validation results for prompt 3:\n",
      "Avg loss: 0.0394\n",
      "QWK: 0.5662\n",
      "Predicted min: 0.40, max: 4.05, mean: 1.74\n",
      "Actual min: 0.00, max: 3.00, mean: 1.85\n"
     ]
    },
    {
     "name": "stderr",
     "output_type": "stream",
     "text": [
      "                                                          \r"
     ]
    },
    {
     "name": "stdout",
     "output_type": "stream",
     "text": [
      "epoch 3: avg training loss = 0.0265\n",
      "\n",
      "--------------------Evaluating-----------------------\n"
     ]
    },
    {
     "name": "stderr",
     "output_type": "stream",
     "text": [
      "                                                           \r"
     ]
    },
    {
     "name": "stdout",
     "output_type": "stream",
     "text": [
      "\n",
      "Validation results for prompt 3:\n",
      "Avg loss: 0.0384\n",
      "QWK: 0.5671\n",
      "Predicted min: 0.39, max: 4.08, mean: 1.79\n",
      "Actual min: 0.00, max: 3.00, mean: 1.85\n"
     ]
    },
    {
     "name": "stderr",
     "output_type": "stream",
     "text": [
      "                                                          \r"
     ]
    },
    {
     "name": "stdout",
     "output_type": "stream",
     "text": [
      "epoch 4: avg training loss = 0.0255\n",
      "\n",
      "--------------------Evaluating-----------------------\n"
     ]
    },
    {
     "name": "stderr",
     "output_type": "stream",
     "text": [
      "                                                           \r"
     ]
    },
    {
     "name": "stdout",
     "output_type": "stream",
     "text": [
      "\n",
      "Validation results for prompt 3:\n",
      "Avg loss: 0.0459\n",
      "QWK: 0.5519\n",
      "Predicted min: 0.19, max: 3.79, mean: 1.59\n",
      "Actual min: 0.00, max: 3.00, mean: 1.85\n"
     ]
    },
    {
     "name": "stderr",
     "output_type": "stream",
     "text": [
      "                                                          \r"
     ]
    },
    {
     "name": "stdout",
     "output_type": "stream",
     "text": [
      "epoch 5: avg training loss = 0.0254\n",
      "\n",
      "--------------------Evaluating-----------------------\n"
     ]
    },
    {
     "name": "stderr",
     "output_type": "stream",
     "text": [
      "                                                           \r"
     ]
    },
    {
     "name": "stdout",
     "output_type": "stream",
     "text": [
      "\n",
      "Validation results for prompt 3:\n",
      "Avg loss: 0.0378\n",
      "QWK: 0.5668\n",
      "Predicted min: 0.36, max: 4.13, mean: 1.85\n",
      "Actual min: 0.00, max: 3.00, mean: 1.85\n",
      "\n",
      "--------------------------------------------------\n",
      "Validation prompt no. 4\n",
      "\n",
      "Starting training...\n"
     ]
    },
    {
     "name": "stderr",
     "output_type": "stream",
     "text": [
      "                                                          \r"
     ]
    },
    {
     "name": "stdout",
     "output_type": "stream",
     "text": [
      "epoch 1: avg training loss = 6.5197\n",
      "\n",
      "--------------------Evaluating-----------------------\n"
     ]
    },
    {
     "name": "stderr",
     "output_type": "stream",
     "text": [
      "                                                           \r"
     ]
    },
    {
     "name": "stdout",
     "output_type": "stream",
     "text": [
      "\n",
      "Validation results for prompt 4:\n",
      "Avg loss: 0.1623\n",
      "QWK: 0.0000\n",
      "Predicted min: 0.67, max: 0.67, mean: 0.67\n",
      "Actual min: 0.00, max: 3.00, mean: 1.43\n"
     ]
    },
    {
     "name": "stderr",
     "output_type": "stream",
     "text": [
      "                                                          \r"
     ]
    },
    {
     "name": "stdout",
     "output_type": "stream",
     "text": [
      "epoch 2: avg training loss = 0.1273\n",
      "\n",
      "--------------------Evaluating-----------------------\n"
     ]
    },
    {
     "name": "stderr",
     "output_type": "stream",
     "text": [
      "                                                           \r"
     ]
    },
    {
     "name": "stdout",
     "output_type": "stream",
     "text": [
      "\n",
      "Validation results for prompt 4:\n",
      "Avg loss: 0.1049\n",
      "QWK: 0.0000\n",
      "Predicted min: 1.17, max: 1.17, mean: 1.17\n",
      "Actual min: 0.00, max: 3.00, mean: 1.43\n"
     ]
    },
    {
     "name": "stderr",
     "output_type": "stream",
     "text": [
      "                                                          \r"
     ]
    },
    {
     "name": "stdout",
     "output_type": "stream",
     "text": [
      "epoch 3: avg training loss = 0.0707\n",
      "\n",
      "--------------------Evaluating-----------------------\n"
     ]
    },
    {
     "name": "stderr",
     "output_type": "stream",
     "text": [
      "                                                           \r"
     ]
    },
    {
     "name": "stdout",
     "output_type": "stream",
     "text": [
      "\n",
      "Validation results for prompt 4:\n",
      "Avg loss: 0.0977\n",
      "QWK: 0.0000\n",
      "Predicted min: 1.45, max: 1.45, mean: 1.45\n",
      "Actual min: 0.00, max: 3.00, mean: 1.43\n"
     ]
    },
    {
     "name": "stderr",
     "output_type": "stream",
     "text": [
      "                                                          \r"
     ]
    },
    {
     "name": "stdout",
     "output_type": "stream",
     "text": [
      "epoch 4: avg training loss = 0.0562\n",
      "\n",
      "--------------------Evaluating-----------------------\n"
     ]
    },
    {
     "name": "stderr",
     "output_type": "stream",
     "text": [
      "                                                           \r"
     ]
    },
    {
     "name": "stdout",
     "output_type": "stream",
     "text": [
      "\n",
      "Validation results for prompt 4:\n",
      "Avg loss: 0.0999\n",
      "QWK: 0.0000\n",
      "Predicted min: 1.57, max: 1.57, mean: 1.57\n",
      "Actual min: 0.00, max: 3.00, mean: 1.43\n"
     ]
    },
    {
     "name": "stderr",
     "output_type": "stream",
     "text": [
      "                                                          \r"
     ]
    },
    {
     "name": "stdout",
     "output_type": "stream",
     "text": [
      "epoch 5: avg training loss = 0.0526\n",
      "\n",
      "--------------------Evaluating-----------------------\n"
     ]
    },
    {
     "name": "stderr",
     "output_type": "stream",
     "text": [
      "                                                           \r"
     ]
    },
    {
     "name": "stdout",
     "output_type": "stream",
     "text": [
      "\n",
      "Validation results for prompt 4:\n",
      "Avg loss: 0.1017\n",
      "QWK: 0.0000\n",
      "Predicted min: 1.62, max: 1.62, mean: 1.62\n",
      "Actual min: 0.00, max: 3.00, mean: 1.43\n",
      "\n",
      "--------------------------------------------------\n",
      "Validation prompt no. 5\n",
      "\n",
      "Starting training...\n"
     ]
    },
    {
     "name": "stderr",
     "output_type": "stream",
     "text": [
      "                                                          \r"
     ]
    },
    {
     "name": "stdout",
     "output_type": "stream",
     "text": [
      "epoch 1: avg training loss = 0.8053\n",
      "\n",
      "--------------------Evaluating-----------------------\n"
     ]
    },
    {
     "name": "stderr",
     "output_type": "stream",
     "text": [
      "                                                           \r"
     ]
    },
    {
     "name": "stdout",
     "output_type": "stream",
     "text": [
      "\n",
      "Validation results for prompt 5:\n",
      "Avg loss: 0.0512\n",
      "QWK: 0.0763\n",
      "Predicted min: 1.95, max: 2.80, mean: 2.28\n",
      "Actual min: 0.00, max: 4.00, mean: 2.41\n"
     ]
    },
    {
     "name": "stderr",
     "output_type": "stream",
     "text": [
      "                                                          \r"
     ]
    },
    {
     "name": "stdout",
     "output_type": "stream",
     "text": [
      "epoch 2: avg training loss = 0.0450\n",
      "\n",
      "--------------------Evaluating-----------------------\n"
     ]
    },
    {
     "name": "stderr",
     "output_type": "stream",
     "text": [
      "                                                           \r"
     ]
    },
    {
     "name": "stdout",
     "output_type": "stream",
     "text": [
      "\n",
      "Validation results for prompt 5:\n",
      "Avg loss: 0.0354\n",
      "QWK: 0.5569\n",
      "Predicted min: 1.67, max: 3.95, mean: 2.48\n",
      "Actual min: 0.00, max: 4.00, mean: 2.41\n"
     ]
    },
    {
     "name": "stderr",
     "output_type": "stream",
     "text": [
      "                                                          \r"
     ]
    },
    {
     "name": "stdout",
     "output_type": "stream",
     "text": [
      "epoch 3: avg training loss = 0.0361\n",
      "\n",
      "--------------------Evaluating-----------------------\n"
     ]
    },
    {
     "name": "stderr",
     "output_type": "stream",
     "text": [
      "                                                           \r"
     ]
    },
    {
     "name": "stdout",
     "output_type": "stream",
     "text": [
      "\n",
      "Validation results for prompt 5:\n",
      "Avg loss: 0.0316\n",
      "QWK: 0.4770\n",
      "Predicted min: 1.17, max: 4.16, mean: 2.24\n",
      "Actual min: 0.00, max: 4.00, mean: 2.41\n"
     ]
    },
    {
     "name": "stderr",
     "output_type": "stream",
     "text": [
      "                                                          \r"
     ]
    },
    {
     "name": "stdout",
     "output_type": "stream",
     "text": [
      "epoch 4: avg training loss = 0.0325\n",
      "\n",
      "--------------------Evaluating-----------------------\n"
     ]
    },
    {
     "name": "stderr",
     "output_type": "stream",
     "text": [
      "                                                           \r"
     ]
    },
    {
     "name": "stdout",
     "output_type": "stream",
     "text": [
      "\n",
      "Validation results for prompt 5:\n",
      "Avg loss: 0.0300\n",
      "QWK: 0.5377\n",
      "Predicted min: 0.98, max: 4.37, mean: 2.20\n",
      "Actual min: 0.00, max: 4.00, mean: 2.41\n"
     ]
    },
    {
     "name": "stderr",
     "output_type": "stream",
     "text": [
      "                                                          \r"
     ]
    },
    {
     "name": "stdout",
     "output_type": "stream",
     "text": [
      "epoch 5: avg training loss = 0.0313\n",
      "\n",
      "--------------------Evaluating-----------------------\n"
     ]
    },
    {
     "name": "stderr",
     "output_type": "stream",
     "text": [
      "                                                           \r"
     ]
    },
    {
     "name": "stdout",
     "output_type": "stream",
     "text": [
      "\n",
      "Validation results for prompt 5:\n",
      "Avg loss: 0.0293\n",
      "QWK: 0.5680\n",
      "Predicted min: 0.88, max: 4.48, mean: 2.18\n",
      "Actual min: 0.00, max: 4.00, mean: 2.41\n",
      "\n",
      "--------------------------------------------------\n",
      "Validation prompt no. 6\n",
      "\n",
      "Starting training...\n"
     ]
    },
    {
     "name": "stderr",
     "output_type": "stream",
     "text": [
      "                                                          \r"
     ]
    },
    {
     "name": "stdout",
     "output_type": "stream",
     "text": [
      "epoch 1: avg training loss = 1.7907\n",
      "\n",
      "--------------------Evaluating-----------------------\n"
     ]
    },
    {
     "name": "stderr",
     "output_type": "stream",
     "text": [
      "                                                           \r"
     ]
    },
    {
     "name": "stdout",
     "output_type": "stream",
     "text": [
      "\n",
      "Validation results for prompt 6:\n",
      "Avg loss: 0.0474\n",
      "QWK: 0.4472\n",
      "Predicted min: 0.52, max: 4.65, mean: 2.26\n",
      "Actual min: 0.00, max: 4.00, mean: 2.72\n"
     ]
    },
    {
     "name": "stderr",
     "output_type": "stream",
     "text": [
      "                                                          \r"
     ]
    },
    {
     "name": "stdout",
     "output_type": "stream",
     "text": [
      "epoch 2: avg training loss = 0.0342\n",
      "\n",
      "--------------------Evaluating-----------------------\n"
     ]
    },
    {
     "name": "stderr",
     "output_type": "stream",
     "text": [
      "                                                           \r"
     ]
    },
    {
     "name": "stdout",
     "output_type": "stream",
     "text": [
      "\n",
      "Validation results for prompt 6:\n",
      "Avg loss: 0.0429\n",
      "QWK: 0.4775\n",
      "Predicted min: 0.69, max: 4.79, mean: 2.31\n",
      "Actual min: 0.00, max: 4.00, mean: 2.72\n"
     ]
    },
    {
     "name": "stderr",
     "output_type": "stream",
     "text": [
      "                                                          \r"
     ]
    },
    {
     "name": "stdout",
     "output_type": "stream",
     "text": [
      "epoch 3: avg training loss = 0.0298\n",
      "\n",
      "--------------------Evaluating-----------------------\n"
     ]
    },
    {
     "name": "stderr",
     "output_type": "stream",
     "text": [
      "                                                           \r"
     ]
    },
    {
     "name": "stdout",
     "output_type": "stream",
     "text": [
      "\n",
      "Validation results for prompt 6:\n",
      "Avg loss: 0.0349\n",
      "QWK: 0.5387\n",
      "Predicted min: 0.95, max: 5.02, mean: 2.51\n",
      "Actual min: 0.00, max: 4.00, mean: 2.72\n"
     ]
    },
    {
     "name": "stderr",
     "output_type": "stream",
     "text": [
      "                                                          \r"
     ]
    },
    {
     "name": "stdout",
     "output_type": "stream",
     "text": [
      "epoch 4: avg training loss = 0.0283\n",
      "\n",
      "--------------------Evaluating-----------------------\n"
     ]
    },
    {
     "name": "stderr",
     "output_type": "stream",
     "text": [
      "                                                           \r"
     ]
    },
    {
     "name": "stdout",
     "output_type": "stream",
     "text": [
      "\n",
      "Validation results for prompt 6:\n",
      "Avg loss: 0.0400\n",
      "QWK: 0.4966\n",
      "Predicted min: 0.82, max: 4.87, mean: 2.37\n",
      "Actual min: 0.00, max: 4.00, mean: 2.72\n"
     ]
    },
    {
     "name": "stderr",
     "output_type": "stream",
     "text": [
      "                                                          \r"
     ]
    },
    {
     "name": "stdout",
     "output_type": "stream",
     "text": [
      "epoch 5: avg training loss = 0.0283\n",
      "\n",
      "--------------------Evaluating-----------------------\n"
     ]
    },
    {
     "name": "stderr",
     "output_type": "stream",
     "text": [
      "                                                           \r"
     ]
    },
    {
     "name": "stdout",
     "output_type": "stream",
     "text": [
      "\n",
      "Validation results for prompt 6:\n",
      "Avg loss: 0.0404\n",
      "QWK: 0.4919\n",
      "Predicted min: 0.85, max: 4.83, mean: 2.36\n",
      "Actual min: 0.00, max: 4.00, mean: 2.72\n",
      "\n",
      "--------------------------------------------------\n",
      "Validation prompt no. 7\n",
      "\n",
      "Starting training...\n"
     ]
    },
    {
     "name": "stderr",
     "output_type": "stream",
     "text": [
      "                                                          \r"
     ]
    },
    {
     "name": "stdout",
     "output_type": "stream",
     "text": [
      "epoch 1: avg training loss = 0.3065\n",
      "\n",
      "--------------------Evaluating-----------------------\n"
     ]
    },
    {
     "name": "stderr",
     "output_type": "stream",
     "text": [
      "                                                           \r"
     ]
    },
    {
     "name": "stdout",
     "output_type": "stream",
     "text": [
      "\n",
      "Validation results for prompt 7:\n",
      "Avg loss: 0.0182\n",
      "QWK: 0.5823\n",
      "Predicted min: 3.24, max: 35.38, mean: 13.80\n",
      "Actual min: 2.00, max: 24.00, mean: 16.06\n"
     ]
    },
    {
     "name": "stderr",
     "output_type": "stream",
     "text": [
      "                                                          \r"
     ]
    },
    {
     "name": "stdout",
     "output_type": "stream",
     "text": [
      "epoch 2: avg training loss = 0.0317\n",
      "\n",
      "--------------------Evaluating-----------------------\n"
     ]
    },
    {
     "name": "stderr",
     "output_type": "stream",
     "text": [
      "                                                           \r"
     ]
    },
    {
     "name": "stdout",
     "output_type": "stream",
     "text": [
      "\n",
      "Validation results for prompt 7:\n",
      "Avg loss: 0.0194\n",
      "QWK: 0.6089\n",
      "Predicted min: 1.42, max: 39.11, mean: 13.72\n",
      "Actual min: 2.00, max: 24.00, mean: 16.06\n"
     ]
    },
    {
     "name": "stderr",
     "output_type": "stream",
     "text": [
      "                                                          \r"
     ]
    },
    {
     "name": "stdout",
     "output_type": "stream",
     "text": [
      "epoch 3: avg training loss = 0.0305\n",
      "\n",
      "--------------------Evaluating-----------------------\n"
     ]
    },
    {
     "name": "stderr",
     "output_type": "stream",
     "text": [
      "                                                           \r"
     ]
    },
    {
     "name": "stdout",
     "output_type": "stream",
     "text": [
      "\n",
      "Validation results for prompt 7:\n",
      "Avg loss: 0.0225\n",
      "QWK: 0.5786\n",
      "Predicted min: 1.09, max: 39.42, mean: 13.22\n",
      "Actual min: 2.00, max: 24.00, mean: 16.06\n"
     ]
    },
    {
     "name": "stderr",
     "output_type": "stream",
     "text": [
      "                                                          \r"
     ]
    },
    {
     "name": "stdout",
     "output_type": "stream",
     "text": [
      "epoch 4: avg training loss = 0.0296\n",
      "\n",
      "--------------------Evaluating-----------------------\n"
     ]
    },
    {
     "name": "stderr",
     "output_type": "stream",
     "text": [
      "                                                           \r"
     ]
    },
    {
     "name": "stdout",
     "output_type": "stream",
     "text": [
      "\n",
      "Validation results for prompt 7:\n",
      "Avg loss: 0.0318\n",
      "QWK: 0.4976\n",
      "Predicted min: 1.01, max: 38.17, mean: 11.98\n",
      "Actual min: 2.00, max: 24.00, mean: 16.06\n"
     ]
    },
    {
     "name": "stderr",
     "output_type": "stream",
     "text": [
      "                                                          \r"
     ]
    },
    {
     "name": "stdout",
     "output_type": "stream",
     "text": [
      "epoch 5: avg training loss = 0.0289\n",
      "\n",
      "--------------------Evaluating-----------------------\n"
     ]
    },
    {
     "name": "stderr",
     "output_type": "stream",
     "text": [
      "                                                           \r"
     ]
    },
    {
     "name": "stdout",
     "output_type": "stream",
     "text": [
      "\n",
      "Validation results for prompt 7:\n",
      "Avg loss: 0.0184\n",
      "QWK: 0.6313\n",
      "Predicted min: 0.99, max: 39.88, mean: 13.88\n",
      "Actual min: 2.00, max: 24.00, mean: 16.06\n",
      "\n",
      "--------------------------------------------------\n",
      "Validation prompt no. 8\n",
      "\n",
      "Starting training...\n"
     ]
    },
    {
     "name": "stderr",
     "output_type": "stream",
     "text": [
      "                                                          \r"
     ]
    },
    {
     "name": "stdout",
     "output_type": "stream",
     "text": [
      "epoch 1: avg training loss = 0.5849\n",
      "\n",
      "--------------------Evaluating-----------------------\n"
     ]
    },
    {
     "name": "stderr",
     "output_type": "stream",
     "text": [
      "                                                           \r"
     ]
    },
    {
     "name": "stdout",
     "output_type": "stream",
     "text": [
      "\n",
      "Validation results for prompt 8:\n",
      "Avg loss: 0.0848\n",
      "QWK: 0.1965\n",
      "Predicted min: 13.38, max: 74.01, mean: 51.93\n",
      "Actual min: 10.00, max: 60.00, mean: 36.95\n"
     ]
    },
    {
     "name": "stderr",
     "output_type": "stream",
     "text": [
      "                                                          \r"
     ]
    },
    {
     "name": "stdout",
     "output_type": "stream",
     "text": [
      "epoch 2: avg training loss = 0.0325\n",
      "\n",
      "--------------------Evaluating-----------------------\n"
     ]
    },
    {
     "name": "stderr",
     "output_type": "stream",
     "text": [
      "                                                           \r"
     ]
    },
    {
     "name": "stdout",
     "output_type": "stream",
     "text": [
      "\n",
      "Validation results for prompt 8:\n",
      "Avg loss: 0.0572\n",
      "QWK: 0.2788\n",
      "Predicted min: 9.70, max: 70.56, mean: 48.21\n",
      "Actual min: 10.00, max: 60.00, mean: 36.95\n"
     ]
    },
    {
     "name": "stderr",
     "output_type": "stream",
     "text": [
      "                                                          \r"
     ]
    },
    {
     "name": "stdout",
     "output_type": "stream",
     "text": [
      "epoch 3: avg training loss = 0.0293\n",
      "\n",
      "--------------------Evaluating-----------------------\n"
     ]
    },
    {
     "name": "stderr",
     "output_type": "stream",
     "text": [
      "                                                           \r"
     ]
    },
    {
     "name": "stdout",
     "output_type": "stream",
     "text": [
      "\n",
      "Validation results for prompt 8:\n",
      "Avg loss: 0.0710\n",
      "QWK: 0.2419\n",
      "Predicted min: 12.14, max: 72.85, mean: 50.17\n",
      "Actual min: 10.00, max: 60.00, mean: 36.95\n"
     ]
    },
    {
     "name": "stderr",
     "output_type": "stream",
     "text": [
      "                                                          \r"
     ]
    },
    {
     "name": "stdout",
     "output_type": "stream",
     "text": [
      "epoch 4: avg training loss = 0.0283\n",
      "\n",
      "--------------------Evaluating-----------------------\n"
     ]
    },
    {
     "name": "stderr",
     "output_type": "stream",
     "text": [
      "                                                           \r"
     ]
    },
    {
     "name": "stdout",
     "output_type": "stream",
     "text": [
      "\n",
      "Validation results for prompt 8:\n",
      "Avg loss: 0.0675\n",
      "QWK: 0.2500\n",
      "Predicted min: 12.00, max: 72.25, mean: 49.73\n",
      "Actual min: 10.00, max: 60.00, mean: 36.95\n"
     ]
    },
    {
     "name": "stderr",
     "output_type": "stream",
     "text": [
      "                                                          \r"
     ]
    },
    {
     "name": "stdout",
     "output_type": "stream",
     "text": [
      "epoch 5: avg training loss = 0.0276\n",
      "\n",
      "--------------------Evaluating-----------------------\n"
     ]
    },
    {
     "name": "stderr",
     "output_type": "stream",
     "text": [
      "                                                           \r"
     ]
    },
    {
     "name": "stdout",
     "output_type": "stream",
     "text": [
      "\n",
      "Validation results for prompt 8:\n",
      "Avg loss: 0.0567\n",
      "QWK: 0.2832\n",
      "Predicted min: 11.52, max: 70.49, mean: 48.24\n",
      "Actual min: 10.00, max: 60.00, mean: 36.95\n",
      "\n",
      "==================================================\n",
      "Trying regression head with 8 hidden units\n",
      "\n",
      "--------------------------------------------------\n",
      "Validation prompt no. 2\n",
      "\n",
      "Starting training...\n"
     ]
    },
    {
     "name": "stderr",
     "output_type": "stream",
     "text": [
      "                                                          \r"
     ]
    },
    {
     "name": "stdout",
     "output_type": "stream",
     "text": [
      "epoch 1: avg training loss = 1.9938\n",
      "\n",
      "--------------------Evaluating-----------------------\n"
     ]
    },
    {
     "name": "stderr",
     "output_type": "stream",
     "text": [
      "                                                           \r"
     ]
    },
    {
     "name": "stdout",
     "output_type": "stream",
     "text": [
      "\n",
      "Validation results for prompt 2:\n",
      "Avg loss: 0.0818\n",
      "QWK: 0.2630\n",
      "Predicted min: 2.35, max: 8.07, mean: 4.71\n",
      "Actual min: 1.00, max: 6.00, mean: 3.41\n"
     ]
    },
    {
     "name": "stderr",
     "output_type": "stream",
     "text": [
      "                                                          \r"
     ]
    },
    {
     "name": "stdout",
     "output_type": "stream",
     "text": [
      "epoch 2: avg training loss = 0.0368\n",
      "\n",
      "--------------------Evaluating-----------------------\n"
     ]
    },
    {
     "name": "stderr",
     "output_type": "stream",
     "text": [
      "                                                           \r"
     ]
    },
    {
     "name": "stdout",
     "output_type": "stream",
     "text": [
      "\n",
      "Validation results for prompt 2:\n",
      "Avg loss: 0.0308\n",
      "QWK: 0.4684\n",
      "Predicted min: 2.23, max: 7.54, mean: 4.08\n",
      "Actual min: 1.00, max: 6.00, mean: 3.41\n"
     ]
    },
    {
     "name": "stderr",
     "output_type": "stream",
     "text": [
      "                                                          \r"
     ]
    },
    {
     "name": "stdout",
     "output_type": "stream",
     "text": [
      "epoch 3: avg training loss = 0.0322\n",
      "\n",
      "--------------------Evaluating-----------------------\n"
     ]
    },
    {
     "name": "stderr",
     "output_type": "stream",
     "text": [
      "                                                           \r"
     ]
    },
    {
     "name": "stdout",
     "output_type": "stream",
     "text": [
      "\n",
      "Validation results for prompt 2:\n",
      "Avg loss: 0.0348\n",
      "QWK: 0.4409\n",
      "Predicted min: 2.26, max: 7.63, mean: 4.15\n",
      "Actual min: 1.00, max: 6.00, mean: 3.41\n"
     ]
    },
    {
     "name": "stderr",
     "output_type": "stream",
     "text": [
      "                                                          \r"
     ]
    },
    {
     "name": "stdout",
     "output_type": "stream",
     "text": [
      "epoch 4: avg training loss = 0.0312\n",
      "\n",
      "--------------------Evaluating-----------------------\n"
     ]
    },
    {
     "name": "stderr",
     "output_type": "stream",
     "text": [
      "                                                           \r"
     ]
    },
    {
     "name": "stdout",
     "output_type": "stream",
     "text": [
      "\n",
      "Validation results for prompt 2:\n",
      "Avg loss: 0.0250\n",
      "QWK: 0.5115\n",
      "Predicted min: 2.05, max: 7.41, mean: 3.96\n",
      "Actual min: 1.00, max: 6.00, mean: 3.41\n"
     ]
    },
    {
     "name": "stderr",
     "output_type": "stream",
     "text": [
      "                                                          \r"
     ]
    },
    {
     "name": "stdout",
     "output_type": "stream",
     "text": [
      "epoch 5: avg training loss = 0.0304\n",
      "\n",
      "--------------------Evaluating-----------------------\n"
     ]
    },
    {
     "name": "stderr",
     "output_type": "stream",
     "text": [
      "                                                           \r"
     ]
    },
    {
     "name": "stdout",
     "output_type": "stream",
     "text": [
      "\n",
      "Validation results for prompt 2:\n",
      "Avg loss: 0.0232\n",
      "QWK: 0.5249\n",
      "Predicted min: 1.96, max: 6.72, mean: 3.93\n",
      "Actual min: 1.00, max: 6.00, mean: 3.41\n",
      "\n",
      "--------------------------------------------------\n",
      "Validation prompt no. 3\n",
      "\n",
      "Starting training...\n"
     ]
    },
    {
     "name": "stderr",
     "output_type": "stream",
     "text": [
      "                                                          \r"
     ]
    },
    {
     "name": "stdout",
     "output_type": "stream",
     "text": [
      "epoch 1: avg training loss = 1.5046\n",
      "\n",
      "--------------------Evaluating-----------------------\n"
     ]
    },
    {
     "name": "stderr",
     "output_type": "stream",
     "text": [
      "                                                           \r"
     ]
    },
    {
     "name": "stdout",
     "output_type": "stream",
     "text": [
      "\n",
      "Validation results for prompt 3:\n",
      "Avg loss: 0.0513\n",
      "QWK: 0.4943\n",
      "Predicted min: 0.48, max: 3.40, mean: 1.60\n",
      "Actual min: 0.00, max: 3.00, mean: 1.85\n"
     ]
    },
    {
     "name": "stderr",
     "output_type": "stream",
     "text": [
      "                                                          \r"
     ]
    },
    {
     "name": "stdout",
     "output_type": "stream",
     "text": [
      "epoch 2: avg training loss = 0.0315\n",
      "\n",
      "--------------------Evaluating-----------------------\n"
     ]
    },
    {
     "name": "stderr",
     "output_type": "stream",
     "text": [
      "                                                           \r"
     ]
    },
    {
     "name": "stdout",
     "output_type": "stream",
     "text": [
      "\n",
      "Validation results for prompt 3:\n",
      "Avg loss: 0.0454\n",
      "QWK: 0.5334\n",
      "Predicted min: 0.30, max: 3.74, mean: 1.63\n",
      "Actual min: 0.00, max: 3.00, mean: 1.85\n"
     ]
    },
    {
     "name": "stderr",
     "output_type": "stream",
     "text": [
      "                                                          \r"
     ]
    },
    {
     "name": "stdout",
     "output_type": "stream",
     "text": [
      "epoch 3: avg training loss = 0.0275\n",
      "\n",
      "--------------------Evaluating-----------------------\n"
     ]
    },
    {
     "name": "stderr",
     "output_type": "stream",
     "text": [
      "                                                           \r"
     ]
    },
    {
     "name": "stdout",
     "output_type": "stream",
     "text": [
      "\n",
      "Validation results for prompt 3:\n",
      "Avg loss: 0.0460\n",
      "QWK: 0.5327\n",
      "Predicted min: 0.29, max: 3.68, mean: 1.61\n",
      "Actual min: 0.00, max: 3.00, mean: 1.85\n"
     ]
    },
    {
     "name": "stderr",
     "output_type": "stream",
     "text": [
      "                                                          \r"
     ]
    },
    {
     "name": "stdout",
     "output_type": "stream",
     "text": [
      "epoch 4: avg training loss = 0.0263\n",
      "\n",
      "--------------------Evaluating-----------------------\n"
     ]
    },
    {
     "name": "stderr",
     "output_type": "stream",
     "text": [
      "                                                           \r"
     ]
    },
    {
     "name": "stdout",
     "output_type": "stream",
     "text": [
      "\n",
      "Validation results for prompt 3:\n",
      "Avg loss: 0.0404\n",
      "QWK: 0.5482\n",
      "Predicted min: 0.39, max: 3.78, mean: 1.74\n",
      "Actual min: 0.00, max: 3.00, mean: 1.85\n"
     ]
    },
    {
     "name": "stderr",
     "output_type": "stream",
     "text": [
      "                                                          \r"
     ]
    },
    {
     "name": "stdout",
     "output_type": "stream",
     "text": [
      "epoch 5: avg training loss = 0.0255\n",
      "\n",
      "--------------------Evaluating-----------------------\n"
     ]
    },
    {
     "name": "stderr",
     "output_type": "stream",
     "text": [
      "                                                           \r"
     ]
    },
    {
     "name": "stdout",
     "output_type": "stream",
     "text": [
      "\n",
      "Validation results for prompt 3:\n",
      "Avg loss: 0.0415\n",
      "QWK: 0.5495\n",
      "Predicted min: 0.38, max: 3.68, mean: 1.70\n",
      "Actual min: 0.00, max: 3.00, mean: 1.85\n",
      "\n",
      "--------------------------------------------------\n",
      "Validation prompt no. 4\n",
      "\n",
      "Starting training...\n"
     ]
    },
    {
     "name": "stderr",
     "output_type": "stream",
     "text": [
      "                                                          \r"
     ]
    },
    {
     "name": "stdout",
     "output_type": "stream",
     "text": [
      "epoch 1: avg training loss = 0.6885\n",
      "\n",
      "--------------------Evaluating-----------------------\n"
     ]
    },
    {
     "name": "stderr",
     "output_type": "stream",
     "text": [
      "                                                           \r"
     ]
    },
    {
     "name": "stdout",
     "output_type": "stream",
     "text": [
      "\n",
      "Validation results for prompt 4:\n",
      "Avg loss: 0.1003\n",
      "QWK: 0.0000\n",
      "Predicted min: 1.27, max: 1.27, mean: 1.27\n",
      "Actual min: 0.00, max: 3.00, mean: 1.43\n"
     ]
    },
    {
     "name": "stderr",
     "output_type": "stream",
     "text": [
      "                                                          \r"
     ]
    },
    {
     "name": "stdout",
     "output_type": "stream",
     "text": [
      "epoch 2: avg training loss = 0.0572\n",
      "\n",
      "--------------------Evaluating-----------------------\n"
     ]
    },
    {
     "name": "stderr",
     "output_type": "stream",
     "text": [
      "                                                           \r"
     ]
    },
    {
     "name": "stdout",
     "output_type": "stream",
     "text": [
      "\n",
      "Validation results for prompt 4:\n",
      "Avg loss: 0.1029\n",
      "QWK: 0.0000\n",
      "Predicted min: 1.65, max: 1.65, mean: 1.65\n",
      "Actual min: 0.00, max: 3.00, mean: 1.43\n"
     ]
    },
    {
     "name": "stderr",
     "output_type": "stream",
     "text": [
      "                                                          \r"
     ]
    },
    {
     "name": "stdout",
     "output_type": "stream",
     "text": [
      "epoch 3: avg training loss = 0.0504\n",
      "\n",
      "--------------------Evaluating-----------------------\n"
     ]
    },
    {
     "name": "stderr",
     "output_type": "stream",
     "text": [
      "                                                           \r"
     ]
    },
    {
     "name": "stdout",
     "output_type": "stream",
     "text": [
      "\n",
      "Validation results for prompt 4:\n",
      "Avg loss: 0.1053\n",
      "QWK: 0.0000\n",
      "Predicted min: 1.69, max: 1.69, mean: 1.69\n",
      "Actual min: 0.00, max: 3.00, mean: 1.43\n"
     ]
    },
    {
     "name": "stderr",
     "output_type": "stream",
     "text": [
      "                                                          \r"
     ]
    },
    {
     "name": "stdout",
     "output_type": "stream",
     "text": [
      "epoch 4: avg training loss = 0.0500\n",
      "\n",
      "--------------------Evaluating-----------------------\n"
     ]
    },
    {
     "name": "stderr",
     "output_type": "stream",
     "text": [
      "                                                           \r"
     ]
    },
    {
     "name": "stdout",
     "output_type": "stream",
     "text": [
      "\n",
      "Validation results for prompt 4:\n",
      "Avg loss: 0.1068\n",
      "QWK: 0.0000\n",
      "Predicted min: 1.71, max: 1.71, mean: 1.71\n",
      "Actual min: 0.00, max: 3.00, mean: 1.43\n"
     ]
    },
    {
     "name": "stderr",
     "output_type": "stream",
     "text": [
      "                                                          \r"
     ]
    },
    {
     "name": "stdout",
     "output_type": "stream",
     "text": [
      "epoch 5: avg training loss = 0.0498\n",
      "\n",
      "--------------------Evaluating-----------------------\n"
     ]
    },
    {
     "name": "stderr",
     "output_type": "stream",
     "text": [
      "                                                           \r"
     ]
    },
    {
     "name": "stdout",
     "output_type": "stream",
     "text": [
      "\n",
      "Validation results for prompt 4:\n",
      "Avg loss: 0.1070\n",
      "QWK: 0.0000\n",
      "Predicted min: 1.72, max: 1.72, mean: 1.72\n",
      "Actual min: 0.00, max: 3.00, mean: 1.43\n",
      "\n",
      "--------------------------------------------------\n",
      "Validation prompt no. 5\n",
      "\n",
      "Starting training...\n"
     ]
    },
    {
     "name": "stderr",
     "output_type": "stream",
     "text": [
      "                                                          \r"
     ]
    },
    {
     "name": "stdout",
     "output_type": "stream",
     "text": [
      "epoch 1: avg training loss = 1.2754\n",
      "\n",
      "--------------------Evaluating-----------------------\n"
     ]
    },
    {
     "name": "stderr",
     "output_type": "stream",
     "text": [
      "                                                           \r"
     ]
    },
    {
     "name": "stdout",
     "output_type": "stream",
     "text": [
      "\n",
      "Validation results for prompt 5:\n",
      "Avg loss: 0.0322\n",
      "QWK: 0.5061\n",
      "Predicted min: 0.85, max: 4.14, mean: 2.16\n",
      "Actual min: 0.00, max: 4.00, mean: 2.41\n"
     ]
    },
    {
     "name": "stderr",
     "output_type": "stream",
     "text": [
      "                                                          \r"
     ]
    },
    {
     "name": "stdout",
     "output_type": "stream",
     "text": [
      "epoch 2: avg training loss = 0.0338\n",
      "\n",
      "--------------------Evaluating-----------------------\n"
     ]
    },
    {
     "name": "stderr",
     "output_type": "stream",
     "text": [
      "                                                           \r"
     ]
    },
    {
     "name": "stdout",
     "output_type": "stream",
     "text": [
      "\n",
      "Validation results for prompt 5:\n",
      "Avg loss: 0.0337\n",
      "QWK: 0.5675\n",
      "Predicted min: 0.60, max: 4.34, mean: 2.05\n",
      "Actual min: 0.00, max: 4.00, mean: 2.41\n"
     ]
    },
    {
     "name": "stderr",
     "output_type": "stream",
     "text": [
      "                                                          \r"
     ]
    },
    {
     "name": "stdout",
     "output_type": "stream",
     "text": [
      "epoch 3: avg training loss = 0.0307\n",
      "\n",
      "--------------------Evaluating-----------------------\n"
     ]
    },
    {
     "name": "stderr",
     "output_type": "stream",
     "text": [
      "                                                           \r"
     ]
    },
    {
     "name": "stdout",
     "output_type": "stream",
     "text": [
      "\n",
      "Validation results for prompt 5:\n",
      "Avg loss: 0.0293\n",
      "QWK: 0.5958\n",
      "Predicted min: 0.70, max: 4.50, mean: 2.15\n",
      "Actual min: 0.00, max: 4.00, mean: 2.41\n"
     ]
    },
    {
     "name": "stderr",
     "output_type": "stream",
     "text": [
      "                                                          \r"
     ]
    },
    {
     "name": "stdout",
     "output_type": "stream",
     "text": [
      "epoch 4: avg training loss = 0.0298\n",
      "\n",
      "--------------------Evaluating-----------------------\n"
     ]
    },
    {
     "name": "stderr",
     "output_type": "stream",
     "text": [
      "                                                           \r"
     ]
    },
    {
     "name": "stdout",
     "output_type": "stream",
     "text": [
      "\n",
      "Validation results for prompt 5:\n",
      "Avg loss: 0.0290\n",
      "QWK: 0.6000\n",
      "Predicted min: 0.73, max: 4.50, mean: 2.16\n",
      "Actual min: 0.00, max: 4.00, mean: 2.41\n"
     ]
    },
    {
     "name": "stderr",
     "output_type": "stream",
     "text": [
      "                                                          \r"
     ]
    },
    {
     "name": "stdout",
     "output_type": "stream",
     "text": [
      "epoch 5: avg training loss = 0.0294\n",
      "\n",
      "--------------------Evaluating-----------------------\n"
     ]
    },
    {
     "name": "stderr",
     "output_type": "stream",
     "text": [
      "                                                           \r"
     ]
    },
    {
     "name": "stdout",
     "output_type": "stream",
     "text": [
      "\n",
      "Validation results for prompt 5:\n",
      "Avg loss: 0.0284\n",
      "QWK: 0.6114\n",
      "Predicted min: 0.74, max: 4.49, mean: 2.17\n",
      "Actual min: 0.00, max: 4.00, mean: 2.41\n",
      "\n",
      "--------------------------------------------------\n",
      "Validation prompt no. 6\n",
      "\n",
      "Starting training...\n"
     ]
    },
    {
     "name": "stderr",
     "output_type": "stream",
     "text": [
      "                                                          \r"
     ]
    },
    {
     "name": "stdout",
     "output_type": "stream",
     "text": [
      "epoch 1: avg training loss = 0.6517\n",
      "\n",
      "--------------------Evaluating-----------------------\n"
     ]
    },
    {
     "name": "stderr",
     "output_type": "stream",
     "text": [
      "                                                           \r"
     ]
    },
    {
     "name": "stdout",
     "output_type": "stream",
     "text": [
      "\n",
      "Validation results for prompt 6:\n",
      "Avg loss: 0.0388\n",
      "QWK: 0.4998\n",
      "Predicted min: 0.65, max: 4.77, mean: 2.40\n",
      "Actual min: 0.00, max: 4.00, mean: 2.72\n"
     ]
    },
    {
     "name": "stderr",
     "output_type": "stream",
     "text": [
      "                                                          \r"
     ]
    },
    {
     "name": "stdout",
     "output_type": "stream",
     "text": [
      "epoch 2: avg training loss = 0.0315\n",
      "\n",
      "--------------------Evaluating-----------------------\n"
     ]
    },
    {
     "name": "stderr",
     "output_type": "stream",
     "text": [
      "                                                           \r"
     ]
    },
    {
     "name": "stdout",
     "output_type": "stream",
     "text": [
      "\n",
      "Validation results for prompt 6:\n",
      "Avg loss: 0.0324\n",
      "QWK: 0.5627\n",
      "Predicted min: 0.86, max: 5.23, mean: 2.60\n",
      "Actual min: 0.00, max: 4.00, mean: 2.72\n"
     ]
    },
    {
     "name": "stderr",
     "output_type": "stream",
     "text": [
      "                                                          \r"
     ]
    },
    {
     "name": "stdout",
     "output_type": "stream",
     "text": [
      "epoch 3: avg training loss = 0.0281\n",
      "\n",
      "--------------------Evaluating-----------------------\n"
     ]
    },
    {
     "name": "stderr",
     "output_type": "stream",
     "text": [
      "                                                           \r"
     ]
    },
    {
     "name": "stdout",
     "output_type": "stream",
     "text": [
      "\n",
      "Validation results for prompt 6:\n",
      "Avg loss: 0.0325\n",
      "QWK: 0.5679\n",
      "Predicted min: 0.84, max: 5.30, mean: 2.59\n",
      "Actual min: 0.00, max: 4.00, mean: 2.72\n"
     ]
    },
    {
     "name": "stderr",
     "output_type": "stream",
     "text": [
      "                                                          \r"
     ]
    },
    {
     "name": "stdout",
     "output_type": "stream",
     "text": [
      "epoch 4: avg training loss = 0.0273\n",
      "\n",
      "--------------------Evaluating-----------------------\n"
     ]
    },
    {
     "name": "stderr",
     "output_type": "stream",
     "text": [
      "                                                           \r"
     ]
    },
    {
     "name": "stdout",
     "output_type": "stream",
     "text": [
      "\n",
      "Validation results for prompt 6:\n",
      "Avg loss: 0.0321\n",
      "QWK: 0.5749\n",
      "Predicted min: 0.85, max: 5.27, mean: 2.63\n",
      "Actual min: 0.00, max: 4.00, mean: 2.72\n"
     ]
    },
    {
     "name": "stderr",
     "output_type": "stream",
     "text": [
      "                                                          \r"
     ]
    },
    {
     "name": "stdout",
     "output_type": "stream",
     "text": [
      "epoch 5: avg training loss = 0.0264\n",
      "\n",
      "--------------------Evaluating-----------------------\n"
     ]
    },
    {
     "name": "stderr",
     "output_type": "stream",
     "text": [
      "                                                           \r"
     ]
    },
    {
     "name": "stdout",
     "output_type": "stream",
     "text": [
      "\n",
      "Validation results for prompt 6:\n",
      "Avg loss: 0.0326\n",
      "QWK: 0.5675\n",
      "Predicted min: 0.81, max: 5.06, mean: 2.60\n",
      "Actual min: 0.00, max: 4.00, mean: 2.72\n",
      "\n",
      "--------------------------------------------------\n",
      "Validation prompt no. 7\n",
      "\n",
      "Starting training...\n"
     ]
    },
    {
     "name": "stderr",
     "output_type": "stream",
     "text": [
      "                                                          \r"
     ]
    },
    {
     "name": "stdout",
     "output_type": "stream",
     "text": [
      "epoch 1: avg training loss = 0.6575\n",
      "\n",
      "--------------------Evaluating-----------------------\n"
     ]
    },
    {
     "name": "stderr",
     "output_type": "stream",
     "text": [
      "                                                           \r"
     ]
    },
    {
     "name": "stdout",
     "output_type": "stream",
     "text": [
      "\n",
      "Validation results for prompt 7:\n",
      "Avg loss: 0.0346\n",
      "QWK: 0.0000\n",
      "Predicted min: 12.80, max: 12.80, mean: 12.80\n",
      "Actual min: 2.00, max: 24.00, mean: 16.06\n"
     ]
    },
    {
     "name": "stderr",
     "output_type": "stream",
     "text": [
      "                                                          \r"
     ]
    },
    {
     "name": "stdout",
     "output_type": "stream",
     "text": [
      "epoch 2: avg training loss = 0.0707\n",
      "\n",
      "--------------------Evaluating-----------------------\n"
     ]
    },
    {
     "name": "stderr",
     "output_type": "stream",
     "text": [
      "                                                           \r"
     ]
    },
    {
     "name": "stdout",
     "output_type": "stream",
     "text": [
      "\n",
      "Validation results for prompt 7:\n",
      "Avg loss: 0.0230\n",
      "QWK: 0.0000\n",
      "Predicted min: 16.28, max: 16.28, mean: 16.28\n",
      "Actual min: 2.00, max: 24.00, mean: 16.06\n"
     ]
    },
    {
     "name": "stderr",
     "output_type": "stream",
     "text": [
      "                                                          \r"
     ]
    },
    {
     "name": "stdout",
     "output_type": "stream",
     "text": [
      "epoch 3: avg training loss = 0.0652\n",
      "\n",
      "--------------------Evaluating-----------------------\n"
     ]
    },
    {
     "name": "stderr",
     "output_type": "stream",
     "text": [
      "                                                           \r"
     ]
    },
    {
     "name": "stdout",
     "output_type": "stream",
     "text": [
      "\n",
      "Validation results for prompt 7:\n",
      "Avg loss: 0.0234\n",
      "QWK: 0.0000\n",
      "Predicted min: 16.73, max: 16.73, mean: 16.73\n",
      "Actual min: 2.00, max: 24.00, mean: 16.06\n"
     ]
    },
    {
     "name": "stderr",
     "output_type": "stream",
     "text": [
      "                                                          \r"
     ]
    },
    {
     "name": "stdout",
     "output_type": "stream",
     "text": [
      "epoch 4: avg training loss = 0.0648\n",
      "\n",
      "--------------------Evaluating-----------------------\n"
     ]
    },
    {
     "name": "stderr",
     "output_type": "stream",
     "text": [
      "                                                           \r"
     ]
    },
    {
     "name": "stdout",
     "output_type": "stream",
     "text": [
      "\n",
      "Validation results for prompt 7:\n",
      "Avg loss: 0.0235\n",
      "QWK: 0.0000\n",
      "Predicted min: 16.77, max: 16.77, mean: 16.77\n",
      "Actual min: 2.00, max: 24.00, mean: 16.06\n"
     ]
    },
    {
     "name": "stderr",
     "output_type": "stream",
     "text": [
      "                                                          \r"
     ]
    },
    {
     "name": "stdout",
     "output_type": "stream",
     "text": [
      "epoch 5: avg training loss = 0.0647\n",
      "\n",
      "--------------------Evaluating-----------------------\n"
     ]
    },
    {
     "name": "stderr",
     "output_type": "stream",
     "text": [
      "                                                           \r"
     ]
    },
    {
     "name": "stdout",
     "output_type": "stream",
     "text": [
      "\n",
      "Validation results for prompt 7:\n",
      "Avg loss: 0.0236\n",
      "QWK: 0.0000\n",
      "Predicted min: 16.85, max: 16.85, mean: 16.85\n",
      "Actual min: 2.00, max: 24.00, mean: 16.06\n",
      "\n",
      "--------------------------------------------------\n",
      "Validation prompt no. 8\n",
      "\n",
      "Starting training...\n"
     ]
    },
    {
     "name": "stderr",
     "output_type": "stream",
     "text": [
      "                                                          \r"
     ]
    },
    {
     "name": "stdout",
     "output_type": "stream",
     "text": [
      "epoch 1: avg training loss = 0.9058\n",
      "\n",
      "--------------------Evaluating-----------------------\n"
     ]
    },
    {
     "name": "stderr",
     "output_type": "stream",
     "text": [
      "                                                           \r"
     ]
    },
    {
     "name": "stdout",
     "output_type": "stream",
     "text": [
      "\n",
      "Validation results for prompt 8:\n",
      "Avg loss: 0.0156\n",
      "QWK: 0.4577\n",
      "Predicted min: 18.25, max: 55.65, mean: 41.54\n",
      "Actual min: 10.00, max: 60.00, mean: 36.95\n"
     ]
    },
    {
     "name": "stderr",
     "output_type": "stream",
     "text": [
      "                                                          \r"
     ]
    },
    {
     "name": "stdout",
     "output_type": "stream",
     "text": [
      "epoch 2: avg training loss = 0.0347\n",
      "\n",
      "--------------------Evaluating-----------------------\n"
     ]
    },
    {
     "name": "stderr",
     "output_type": "stream",
     "text": [
      "                                                           \r"
     ]
    },
    {
     "name": "stdout",
     "output_type": "stream",
     "text": [
      "\n",
      "Validation results for prompt 8:\n",
      "Avg loss: 0.0469\n",
      "QWK: 0.3010\n",
      "Predicted min: 11.27, max: 67.63, mean: 46.85\n",
      "Actual min: 10.00, max: 60.00, mean: 36.95\n"
     ]
    },
    {
     "name": "stderr",
     "output_type": "stream",
     "text": [
      "                                                          \r"
     ]
    },
    {
     "name": "stdout",
     "output_type": "stream",
     "text": [
      "epoch 3: avg training loss = 0.0303\n",
      "\n",
      "--------------------Evaluating-----------------------\n"
     ]
    },
    {
     "name": "stderr",
     "output_type": "stream",
     "text": [
      "                                                           \r"
     ]
    },
    {
     "name": "stdout",
     "output_type": "stream",
     "text": [
      "\n",
      "Validation results for prompt 8:\n",
      "Avg loss: 0.0448\n",
      "QWK: 0.3292\n",
      "Predicted min: 7.55, max: 67.92, mean: 46.04\n",
      "Actual min: 10.00, max: 60.00, mean: 36.95\n"
     ]
    },
    {
     "name": "stderr",
     "output_type": "stream",
     "text": [
      "                                                          \r"
     ]
    },
    {
     "name": "stdout",
     "output_type": "stream",
     "text": [
      "epoch 4: avg training loss = 0.0291\n",
      "\n",
      "--------------------Evaluating-----------------------\n"
     ]
    },
    {
     "name": "stderr",
     "output_type": "stream",
     "text": [
      "                                                           \r"
     ]
    },
    {
     "name": "stdout",
     "output_type": "stream",
     "text": [
      "\n",
      "Validation results for prompt 8:\n",
      "Avg loss: 0.0928\n",
      "QWK: 0.2021\n",
      "Predicted min: 11.96, max: 75.95, mean: 52.53\n",
      "Actual min: 10.00, max: 60.00, mean: 36.95\n"
     ]
    },
    {
     "name": "stderr",
     "output_type": "stream",
     "text": [
      "                                                          \r"
     ]
    },
    {
     "name": "stdout",
     "output_type": "stream",
     "text": [
      "epoch 5: avg training loss = 0.0282\n",
      "\n",
      "--------------------Evaluating-----------------------\n"
     ]
    },
    {
     "name": "stderr",
     "output_type": "stream",
     "text": [
      "                                                           "
     ]
    },
    {
     "name": "stdout",
     "output_type": "stream",
     "text": [
      "\n",
      "Validation results for prompt 8:\n",
      "Avg loss: 0.0463\n",
      "QWK: 0.3346\n",
      "Predicted min: 6.12, max: 68.84, mean: 45.95\n",
      "Actual min: 10.00, max: 60.00, mean: 36.95\n"
     ]
    },
    {
     "name": "stderr",
     "output_type": "stream",
     "text": [
      "\r"
     ]
    }
   ],
   "source": [
    "\n",
    "print(f\"\\n{'='*50}\")\n",
    "print(f\"Starting Holistic scoring using BERT model at {datetime.now().strftime('%Y-%m-%d %H:%M:%S')}\")\n",
    "print(f\"{'='*50}\")\n",
    "\n",
    "data_dict = read_data('dataset.csv')\n",
    "validation_prompts = list(range(2, 9)) #prompts 2-8 used for cross validation\n",
    "results = [] #to store the results for each time\n",
    "hidden_sizes = [0, 4, 8]\n",
    "\n",
    "for hidden_size in hidden_sizes: #grid search over dif regression head configs\n",
    "    print(f\"\\n{'='*50}\")\n",
    "    print(f\"Trying regression head with {hidden_size} hidden units\")\n",
    "    fold_scores = [] #to store the scores for each validation prompt\n",
    "\n",
    "    for val_prompt in validation_prompts:\n",
    "        print(f\"\\n{'-'*50}\")\n",
    "        print(f\"Validation prompt no. {val_prompt}\")\n",
    "        #create train and validation splits\n",
    "        train_mask = np.isin(data_dict['prompt_ids'], [prompt for prompt in validation_prompts if prompt != val_prompt])\n",
    "        val_mask = (data_dict['prompt_ids'] == val_prompt)\n",
    "\n",
    "        #create datasets using the class we defined for training and validation\n",
    "        train_dataset = essays_dataset(\n",
    "            data_dict['essay_text'][train_mask],\n",
    "            data_dict['features'][train_mask],\n",
    "            [normalize_scores(score, pid) for score, pid in zip(data_dict['holistic'][train_mask], data_dict['prompt_ids'][train_mask])],\n",
    "            data_dict['prompt_ids'][train_mask]\n",
    "        )\n",
    "\n",
    "        val_dataset = essays_dataset(\n",
    "            data_dict['essay_text'][val_mask],\n",
    "            data_dict['features'][val_mask],\n",
    "            [normalize_scores(score, val_prompt) for score in data_dict['holistic'][val_mask]],\n",
    "            data_dict['prompt_ids'][val_mask]\n",
    "        )\n",
    "\n",
    "        #dataLoaders to feed our datasets to the model in batches of 32\n",
    "        train_loader = DataLoader(train_dataset, batch_size=32, shuffle=True)\n",
    "        val_loader = DataLoader(val_dataset, batch_size=32)\n",
    "         #initialize model and optimizer\n",
    "        model = Our_BERT(hidden_size=hidden_size).to(device)\n",
    "        optimizer = torch.optim.AdamW(\n",
    "            model.parameters(),\n",
    "            lr=0.005,\n",
    "            betas=(0.9, 0.999),\n",
    "            weight_decay=0.1\n",
    "        )\n",
    "        criterion = nn.MSELoss() #minimum squared error \n",
    "\n",
    "        print(f\"\\nStarting training...\")\n",
    "        for epoch in range(5): \n",
    "            train_loss = train_model(model, train_loader, criterion, optimizer, epoch + 1)\n",
    "            val_loss, val_qwk = evaluate_model(model, val_loader, criterion, val_prompt)\n",
    "\n",
    "        fold_scores.append(val_qwk)\n",
    "     #calculate avg and std of scores\n",
    "    avg_qwk = np.mean(fold_scores)\n",
    "    std_qwk = np.std(fold_scores)\n",
    "    results.append({\n",
    "        'hidden_size': hidden_size,\n",
    "        'avg_qwk': avg_qwk,\n",
    "        'std_qwk': std_qwk,\n",
    "        'fold_scores': fold_scores\n",
    "    })\n",
    "#find the best configs\n",
    "best_result = max(results, key=lambda x: x['avg_qwk'])\n",
    "best_hidden_size = best_result['hidden_size']\n"
   ]
  },
  {
   "cell_type": "markdown",
   "metadata": {},
   "source": [
    "### Training final model"
   ]
  },
  {
   "cell_type": "code",
   "execution_count": null,
   "metadata": {},
   "outputs": [
    {
     "name": "stdout",
     "output_type": "stream",
     "text": [
      "\n",
      "==================================================\n",
      "Best option for regression head:\n",
      "Hidden units: 0\n",
      "Average QWK: 0.5428 (±0.1249)\n",
      "==================================================\n",
      "\n",
      "Final training on prompts 2-8...\n"
     ]
    },
    {
     "name": "stderr",
     "output_type": "stream",
     "text": [
      "                                                          \r"
     ]
    },
    {
     "name": "stdout",
     "output_type": "stream",
     "text": [
      "epoch 1: avg training loss = 1.4347\n"
     ]
    },
    {
     "name": "stderr",
     "output_type": "stream",
     "text": [
      "                                                          \r"
     ]
    },
    {
     "name": "stdout",
     "output_type": "stream",
     "text": [
      "epoch 2: avg training loss = 0.0309\n"
     ]
    },
    {
     "name": "stderr",
     "output_type": "stream",
     "text": [
      "                                                          \r"
     ]
    },
    {
     "name": "stdout",
     "output_type": "stream",
     "text": [
      "epoch 3: avg training loss = 0.0282\n"
     ]
    },
    {
     "name": "stderr",
     "output_type": "stream",
     "text": [
      "                                                          \r"
     ]
    },
    {
     "name": "stdout",
     "output_type": "stream",
     "text": [
      "epoch 4: avg training loss = 0.0275\n"
     ]
    },
    {
     "name": "stderr",
     "output_type": "stream",
     "text": [
      "                                                          \r"
     ]
    },
    {
     "name": "stdout",
     "output_type": "stream",
     "text": [
      "epoch 5: avg training loss = 0.0268\n",
      "\n",
      "Evaluating final model on Prompt 1 (test set)...\n",
      "\n",
      "--------------------Evaluating-----------------------\n"
     ]
    },
    {
     "name": "stderr",
     "output_type": "stream",
     "text": [
      "                                                           "
     ]
    },
    {
     "name": "stdout",
     "output_type": "stream",
     "text": [
      "\n",
      "Validation results for prompt 1:\n",
      "Avg loss: 0.0094\n",
      "QWK: 0.7965\n",
      "Predicted min: 2.48, max: 13.95, mean: 8.19\n",
      "Actual min: 2.00, max: 12.00, mean: 8.53\n",
      "\n",
      "Final test results on prompt 1:\n",
      "Test loss: 0.0094\n",
      "Test QWK: 0.7965\n"
     ]
    },
    {
     "name": "stderr",
     "output_type": "stream",
     "text": [
      "\r"
     ]
    }
   ],
   "source": [
    "\n",
    "print(f\"\\n{'='*50}\")\n",
    "print(\"Best option for regression head:\")\n",
    "print(f\"Hidden units: {best_hidden_size}\")\n",
    "print(f\"Average QWK: {best_result['avg_qwk']:.4f} (±{best_result['std_qwk']:.4f})\")\n",
    "print(f\"{'='*50}\")\n",
    "\n",
    "#create masks for final training (prompts 2-8) and testing (prompt 1)\n",
    "train_mask = np.isin(data_dict['prompt_ids'], range(2, 9))\n",
    "test_mask = (data_dict['prompt_ids'] == 1)\n",
    "\n",
    "#create final training dataset using all prompts 2-8\n",
    "final_dataset = essays_dataset(\n",
    "    data_dict['essay_text'][train_mask],\n",
    "    data_dict['features'][train_mask],\n",
    "    [normalize_scores(score, pid) for score, pid in zip(data_dict['holistic'][train_mask], data_dict['prompt_ids'][train_mask])],\n",
    "    data_dict['prompt_ids'][train_mask]\n",
    ")\n",
    "\n",
    "#create test dataset using prompt 1\n",
    "test_dataset = essays_dataset(\n",
    "    data_dict['essay_text'][test_mask],\n",
    "    data_dict['features'][test_mask],\n",
    "    [normalize_scores(score, 1) for score in data_dict['holistic'][test_mask]],\n",
    "    data_dict['prompt_ids'][test_mask]\n",
    ")\n",
    "\n",
    "final_loader = DataLoader(final_dataset, batch_size=32, shuffle=True)\n",
    "test_loader = DataLoader(test_dataset, batch_size=32)\n",
    "\n",
    "#initialize final model with best configuration\n",
    "final_model = Our_BERT(hidden_size=best_hidden_size).to(device)\n",
    "final_optimizer = torch.optim.AdamW(\n",
    "    final_model.parameters(),\n",
    "    lr=0.005,\n",
    "    betas=(0.9, 0.999),\n",
    "    weight_decay=0.1\n",
    ")\n",
    "final_criterion = nn.MSELoss()\n",
    "#training final model\n",
    "print(\"\\nFinal training on prompts 2-8...\")\n",
    "for epoch in range(5):\n",
    "    train_loss = train_model(final_model, final_loader, final_criterion, final_optimizer, epoch + 1)\n",
    "\n",
    "print(\"\\nEvaluating final model on Prompt 1 (test set)...\")\n",
    "test_loss, test_qwk = evaluate_model(final_model, test_loader, final_criterion, val_prompt_id=1)\n",
    "print(f\"\\nFinal test results on prompt 1:\")\n",
    "print(f\"Test loss: {test_loss:.4f}\")\n",
    "print(f\"Test QWK: {test_qwk:.4f}\")\n",
    "\n"
   ]
  },
  {
   "cell_type": "markdown",
   "metadata": {},
   "source": [
    "### Saving the model"
   ]
  },
  {
   "cell_type": "code",
   "execution_count": null,
   "metadata": {},
   "outputs": [],
   "source": [
    "def save_model(model, optimizer, epoch, train_loss, test_qwk, path):\n",
    "    #saving our model with all relavant info \n",
    "    checkpoint = { \n",
    "        'model_state_dict': model.state_dict(),\n",
    "        'optimizer_state_dict': optimizer.state_dict(),\n",
    "        'epoch': epoch,\n",
    "        'train_loss': train_loss,\n",
    "        'test_qwk': test_qwk,\n",
    "    }\n",
    "    torch.save(checkpoint, path)"
   ]
  },
  {
   "cell_type": "code",
   "execution_count": null,
   "metadata": {},
   "outputs": [],
   "source": [
    "path = \"model-C-1\"\n",
    "save_model(final_model, final_optimizer, epoch + 1, train_loss, test_qwk, path)"
   ]
  }
 ],
 "metadata": {
  "kaggle": {
   "accelerator": "none",
   "dataSources": [
    {
     "datasetId": 6231810,
     "sourceId": 10103250,
     "sourceType": "datasetVersion"
    }
   ],
   "dockerImageVersionId": 30805,
   "isGpuEnabled": false,
   "isInternetEnabled": true,
   "language": "python",
   "sourceType": "notebook"
  },
  "kernelspec": {
   "display_name": "kaggle_nlp",
   "language": "python",
   "name": "python3"
  },
  "language_info": {
   "codemirror_mode": {
    "name": "ipython",
    "version": 3
   },
   "file_extension": ".py",
   "mimetype": "text/x-python",
   "name": "python",
   "nbconvert_exporter": "python",
   "pygments_lexer": "ipython3",
   "version": "3.11.5"
  }
 },
 "nbformat": 4,
 "nbformat_minor": 4
}
